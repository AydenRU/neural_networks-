{
  "nbformat": 4,
  "nbformat_minor": 0,
  "metadata": {
    "colab": {
      "provenance": [],
      "include_colab_link": true
    },
    "kernelspec": {
      "name": "python3",
      "display_name": "Python 3"
    },
    "language_info": {
      "name": "python"
    }
  },
  "cells": [
    {
      "cell_type": "markdown",
      "metadata": {
        "id": "view-in-github",
        "colab_type": "text"
      },
      "source": [
        "<a href=\"https://colab.research.google.com/github/AydenRU/neural_networks-/blob/main/%D0%9F%D1%80%D0%B0%D0%BA%D1%82%D0%B8%D1%87%D0%B5%D1%81%D0%BA%D0%B0%D1%8F_%D1%80%D0%B0%D0%B1%D0%BE%D1%82%D0%B0_%E2%84%962.ipynb\" target=\"_parent\"><img src=\"https://colab.research.google.com/assets/colab-badge.svg\" alt=\"Open In Colab\"/></a>"
      ]
    },
    {
      "cell_type": "markdown",
      "source": [
        "# Практическая работа №2. Использование глубоких нейронных сетей для решения задач регрессии и классификации\n",
        "\n"
      ],
      "metadata": {
        "id": "jVOridAYaoD_"
      }
    },
    {
      "cell_type": "markdown",
      "source": [
        "**Ссылка на код с пары:**\n",
        "https://colab.research.google.com/drive/18EM8mrpURStkmbxWjZybWbWh23Si5b4A?usp=sharing\n"
      ],
      "metadata": {
        "id": "xfLS4L8wbf5M"
      }
    },
    {
      "cell_type": "markdown",
      "source": [
        "## Задание №1. Обучение модели ИНС для решения задачи регрессии\n",
        "\n"
      ],
      "metadata": {
        "id": "ChzaEMuFavMw"
      }
    },
    {
      "cell_type": "markdown",
      "source": [
        "Постройте глубокую нейронную сеть для предсказания цен на недвижимость в городе Бостон, используя датасет датасет boston_housing_price"
      ],
      "metadata": {
        "id": "_AW7ypoN3qSi"
      }
    },
    {
      "cell_type": "markdown",
      "source": [
        "[Описание датасета](https://www.hackersrealm.net/post/boston-house-price-prediction-analysis-using-python)"
      ],
      "metadata": {
        "id": "O1PDCog53nrg"
      }
    },
    {
      "cell_type": "markdown",
      "source": [
        "#### 1.1. Загружаем исходные данные:"
      ],
      "metadata": {
        "id": "QWLURy8z0u3k"
      }
    },
    {
      "cell_type": "code",
      "source": [
        "import pandas as pd\n",
        "import numpy as np\n",
        "import seaborn as sns\n",
        "import matplotlib.pyplot as plt\n",
        "import warnings\n",
        "%matplotlib inline\n",
        "warnings.filterwarnings('ignore')\n",
        "\n",
        "df = pd.read_csv(\"Boston Dataset.csv\")\n",
        "df.drop(columns=['Unnamed: 0'], axis=0, inplace=True)\n",
        "df.head()\n",
        "\n",
        "X = df.drop(columns=['medv', 'rad'], axis=1)\n",
        "y = df['medv']\n",
        "print(X.describe())\n",
        "\n"
      ],
      "metadata": {
        "id": "vGAIXw8gzpLL",
        "colab": {
          "base_uri": "https://localhost:8080/"
        },
        "outputId": "3567f00b-e31d-4d9b-dbb0-4de32b3d58c7"
      },
      "execution_count": 3,
      "outputs": [
        {
          "output_type": "stream",
          "name": "stdout",
          "text": [
            "             crim          zn       indus        chas         nox          rm  \\\n",
            "count  506.000000  506.000000  506.000000  506.000000  506.000000  506.000000   \n",
            "mean     3.613524   11.363636   11.136779    0.069170    0.554695    6.284634   \n",
            "std      8.601545   23.322453    6.860353    0.253994    0.115878    0.702617   \n",
            "min      0.006320    0.000000    0.460000    0.000000    0.385000    3.561000   \n",
            "25%      0.082045    0.000000    5.190000    0.000000    0.449000    5.885500   \n",
            "50%      0.256510    0.000000    9.690000    0.000000    0.538000    6.208500   \n",
            "75%      3.677083   12.500000   18.100000    0.000000    0.624000    6.623500   \n",
            "max     88.976200  100.000000   27.740000    1.000000    0.871000    8.780000   \n",
            "\n",
            "              age         dis         tax     ptratio       black       lstat  \n",
            "count  506.000000  506.000000  506.000000  506.000000  506.000000  506.000000  \n",
            "mean    68.574901    3.795043  408.237154   18.455534  356.674032   12.653063  \n",
            "std     28.148861    2.105710  168.537116    2.164946   91.294864    7.141062  \n",
            "min      2.900000    1.129600  187.000000   12.600000    0.320000    1.730000  \n",
            "25%     45.025000    2.100175  279.000000   17.400000  375.377500    6.950000  \n",
            "50%     77.500000    3.207450  330.000000   19.050000  391.440000   11.360000  \n",
            "75%     94.075000    5.188425  666.000000   20.200000  396.225000   16.955000  \n",
            "max    100.000000   12.126500  711.000000   22.000000  396.900000   37.970000  \n"
          ]
        }
      ]
    },
    {
      "cell_type": "code",
      "source": [
        "from google.colab import drive\n",
        "drive.mount('/content/drive')"
      ],
      "metadata": {
        "id": "u1S8XLwVTyMu",
        "colab": {
          "base_uri": "https://localhost:8080/"
        },
        "outputId": "12f3d238-efe1-43cd-8d85-e93a7a9ec423"
      },
      "execution_count": 4,
      "outputs": [
        {
          "output_type": "stream",
          "name": "stdout",
          "text": [
            "Drive already mounted at /content/drive; to attempt to forcibly remount, call drive.mount(\"/content/drive\", force_remount=True).\n"
          ]
        }
      ]
    },
    {
      "cell_type": "code",
      "source": [
        "from sklearn.model_selection import train_test_split\n",
        "\n",
        "X_train, X_test, y_train, y_test = train_test_split(X.values, y, test_size=0.2, random_state=0)\n",
        "X_train.shape, X_test.shape"
      ],
      "metadata": {
        "colab": {
          "base_uri": "https://localhost:8080/"
        },
        "id": "Dbnm3j6UNCrp",
        "outputId": "f119a5b9-1585-4085-b582-e72f3336a57e"
      },
      "execution_count": 5,
      "outputs": [
        {
          "output_type": "execute_result",
          "data": {
            "text/plain": [
              "((404, 12), (102, 12))"
            ]
          },
          "metadata": {},
          "execution_count": 5
        }
      ]
    },
    {
      "cell_type": "markdown",
      "metadata": {
        "id": "815ut8JJTIM7"
      },
      "source": [
        "#### 1.2. Проектируем архитектуру для этой задачи"
      ]
    },
    {
      "cell_type": "code",
      "source": [
        "# Ваш код\n",
        "from keras.layers import Dense\n",
        "from keras.models import Sequential\n",
        "\n",
        "model = Sequential([\n",
        "    Dense(16, input_shape=(12,), activation='relu'),\n",
        "    Dense(1, activation='relu')\n",
        "])"
      ],
      "metadata": {
        "id": "alrRyjbs1c8s"
      },
      "execution_count": 6,
      "outputs": []
    },
    {
      "cell_type": "markdown",
      "metadata": {
        "id": "F9E1W4yCT0YC"
      },
      "source": [
        "#### 1.3. Компилируем модель ИНС\n",
        "\n",
        "Подберите нужную функцию потерь и метрику."
      ]
    },
    {
      "cell_type": "code",
      "source": [
        "model.compile(optimizer='sgd', loss='mse', metrics='mae')"
      ],
      "metadata": {
        "id": "Fu8VHdqV1gqy"
      },
      "execution_count": 7,
      "outputs": []
    },
    {
      "cell_type": "markdown",
      "metadata": {
        "id": "ebac-dNAUBtX"
      },
      "source": [
        "#### 1.4. Обучаем модель ИНС"
      ]
    },
    {
      "cell_type": "code",
      "source": [
        "# Ваш код\n",
        "model.fit(X_train, y_train, epochs=20)"
      ],
      "metadata": {
        "id": "LcVz6t601hFI",
        "colab": {
          "base_uri": "https://localhost:8080/"
        },
        "outputId": "ae32cb9f-bc4d-4ee7-f7ff-3d6807a96cae"
      },
      "execution_count": 8,
      "outputs": [
        {
          "output_type": "stream",
          "name": "stdout",
          "text": [
            "Epoch 1/20\n",
            "13/13 [==============================] - 1s 3ms/step - loss: 596.4409 - mae: 22.6119\n",
            "Epoch 2/20\n",
            "13/13 [==============================] - 0s 2ms/step - loss: 596.4409 - mae: 22.6119\n",
            "Epoch 3/20\n",
            "13/13 [==============================] - 0s 2ms/step - loss: 596.4409 - mae: 22.6119\n",
            "Epoch 4/20\n",
            "13/13 [==============================] - 0s 3ms/step - loss: 596.4409 - mae: 22.6119\n",
            "Epoch 5/20\n",
            "13/13 [==============================] - 0s 2ms/step - loss: 596.4409 - mae: 22.6119\n",
            "Epoch 6/20\n",
            "13/13 [==============================] - 0s 3ms/step - loss: 596.4409 - mae: 22.6119\n",
            "Epoch 7/20\n",
            "13/13 [==============================] - 0s 2ms/step - loss: 596.4409 - mae: 22.6119\n",
            "Epoch 8/20\n",
            "13/13 [==============================] - 0s 2ms/step - loss: 596.4409 - mae: 22.6119\n",
            "Epoch 9/20\n",
            "13/13 [==============================] - 0s 3ms/step - loss: 596.4409 - mae: 22.6119\n",
            "Epoch 10/20\n",
            "13/13 [==============================] - 0s 3ms/step - loss: 596.4408 - mae: 22.6119\n",
            "Epoch 11/20\n",
            "13/13 [==============================] - 0s 2ms/step - loss: 596.4409 - mae: 22.6119\n",
            "Epoch 12/20\n",
            "13/13 [==============================] - 0s 3ms/step - loss: 596.4409 - mae: 22.6119\n",
            "Epoch 13/20\n",
            "13/13 [==============================] - 0s 2ms/step - loss: 596.4409 - mae: 22.6119\n",
            "Epoch 14/20\n",
            "13/13 [==============================] - 0s 2ms/step - loss: 596.4409 - mae: 22.6119\n",
            "Epoch 15/20\n",
            "13/13 [==============================] - 0s 3ms/step - loss: 596.4409 - mae: 22.6119\n",
            "Epoch 16/20\n",
            "13/13 [==============================] - 0s 2ms/step - loss: 596.4409 - mae: 22.6119\n",
            "Epoch 17/20\n",
            "13/13 [==============================] - 0s 2ms/step - loss: 596.4409 - mae: 22.6119\n",
            "Epoch 18/20\n",
            "13/13 [==============================] - 0s 2ms/step - loss: 596.4409 - mae: 22.6119\n",
            "Epoch 19/20\n",
            "13/13 [==============================] - 0s 2ms/step - loss: 596.4408 - mae: 22.6119\n",
            "Epoch 20/20\n",
            "13/13 [==============================] - 0s 3ms/step - loss: 596.4409 - mae: 22.6119\n"
          ]
        },
        {
          "output_type": "execute_result",
          "data": {
            "text/plain": [
              "<keras.src.callbacks.History at 0x7e4760811c60>"
            ]
          },
          "metadata": {},
          "execution_count": 8
        }
      ]
    },
    {
      "cell_type": "code",
      "source": [
        "# Масштабирую данные\n",
        "from sklearn.preprocessing import MinMaxScaler\n",
        "from sklearn.preprocessing import StandardScaler\n",
        "\n",
        "\n",
        "# scaler = StandardScaler()  # Стандартизация по среднему и стандартному отклонению\n",
        "scaler = MinMaxScaler()  # Масштабирование в диапазон 0-1\n",
        "\n",
        "X_train = scaler.fit_transform(X_train)\n",
        "X_test = scaler.transform(X_test)"
      ],
      "metadata": {
        "id": "Wr64YDs9ORMO"
      },
      "execution_count": 9,
      "outputs": []
    },
    {
      "cell_type": "code",
      "source": [
        "model = Sequential([\n",
        "    Dense(16, input_shape=(12,), activation='relu'),\n",
        "    Dense(1, activation='relu')\n",
        "])\n",
        "model.compile(optimizer='sgd', loss='mse', metrics='mae')"
      ],
      "metadata": {
        "id": "2BUo3Ij3O1oS"
      },
      "execution_count": 10,
      "outputs": []
    },
    {
      "cell_type": "code",
      "source": [
        "stude= model.fit(X_train, y_train, epochs=200, validation_data=(X_test, y_test))"
      ],
      "metadata": {
        "colab": {
          "base_uri": "https://localhost:8080/"
        },
        "id": "4WCh_EwnO3a0",
        "outputId": "6f8e3b8a-2218-4210-8859-41b10bd40a03"
      },
      "execution_count": 11,
      "outputs": [
        {
          "output_type": "stream",
          "name": "stdout",
          "text": [
            "Epoch 1/200\n",
            "13/13 [==============================] - 1s 23ms/step - loss: 167.6376 - mae: 9.2828 - val_loss: 79.4795 - val_mae: 5.7113\n",
            "Epoch 2/200\n",
            "13/13 [==============================] - 0s 6ms/step - loss: 52.7964 - mae: 5.1398 - val_loss: 74.0899 - val_mae: 5.5681\n",
            "Epoch 3/200\n",
            "13/13 [==============================] - 0s 5ms/step - loss: 51.5077 - mae: 5.2486 - val_loss: 110.2386 - val_mae: 9.3463\n",
            "Epoch 4/200\n",
            "13/13 [==============================] - 0s 6ms/step - loss: 51.8181 - mae: 5.5514 - val_loss: 96.0930 - val_mae: 8.5743\n",
            "Epoch 5/200\n",
            "13/13 [==============================] - 0s 6ms/step - loss: 45.4974 - mae: 4.9830 - val_loss: 50.1847 - val_mae: 5.1420\n",
            "Epoch 6/200\n",
            "13/13 [==============================] - 0s 7ms/step - loss: 41.3356 - mae: 4.6928 - val_loss: 49.5371 - val_mae: 4.6174\n",
            "Epoch 7/200\n",
            "13/13 [==============================] - 0s 5ms/step - loss: 29.8504 - mae: 4.0028 - val_loss: 50.3650 - val_mae: 5.5338\n",
            "Epoch 8/200\n",
            "13/13 [==============================] - 0s 6ms/step - loss: 37.5922 - mae: 4.6513 - val_loss: 54.3272 - val_mae: 4.8202\n",
            "Epoch 9/200\n",
            "13/13 [==============================] - 0s 5ms/step - loss: 31.9469 - mae: 4.2497 - val_loss: 57.9881 - val_mae: 5.1429\n",
            "Epoch 10/200\n",
            "13/13 [==============================] - 0s 6ms/step - loss: 29.5862 - mae: 4.0835 - val_loss: 41.7676 - val_mae: 4.0463\n",
            "Epoch 11/200\n",
            "13/13 [==============================] - 0s 5ms/step - loss: 29.2566 - mae: 3.8330 - val_loss: 44.2990 - val_mae: 5.0085\n",
            "Epoch 12/200\n",
            "13/13 [==============================] - 0s 6ms/step - loss: 27.0785 - mae: 3.8079 - val_loss: 43.2508 - val_mae: 4.0964\n",
            "Epoch 13/200\n",
            "13/13 [==============================] - 0s 7ms/step - loss: 25.1883 - mae: 3.6771 - val_loss: 56.6873 - val_mae: 5.1420\n",
            "Epoch 14/200\n",
            "13/13 [==============================] - 0s 5ms/step - loss: 28.2840 - mae: 3.8862 - val_loss: 74.7365 - val_mae: 6.4847\n",
            "Epoch 15/200\n",
            "13/13 [==============================] - 0s 4ms/step - loss: 29.0673 - mae: 3.9884 - val_loss: 41.2693 - val_mae: 3.9597\n",
            "Epoch 16/200\n",
            "13/13 [==============================] - 0s 6ms/step - loss: 29.1469 - mae: 3.9708 - val_loss: 35.3595 - val_mae: 3.7143\n",
            "Epoch 17/200\n",
            "13/13 [==============================] - 0s 6ms/step - loss: 19.4570 - mae: 3.0683 - val_loss: 35.4890 - val_mae: 3.7081\n",
            "Epoch 18/200\n",
            "13/13 [==============================] - 0s 4ms/step - loss: 18.4826 - mae: 2.9824 - val_loss: 43.2679 - val_mae: 4.1011\n",
            "Epoch 19/200\n",
            "13/13 [==============================] - 0s 5ms/step - loss: 18.8940 - mae: 3.0199 - val_loss: 35.7701 - val_mae: 3.6531\n",
            "Epoch 20/200\n",
            "13/13 [==============================] - 0s 6ms/step - loss: 21.2967 - mae: 3.3152 - val_loss: 34.3274 - val_mae: 3.9117\n",
            "Epoch 21/200\n",
            "13/13 [==============================] - 0s 6ms/step - loss: 17.5331 - mae: 2.8338 - val_loss: 33.6878 - val_mae: 3.9938\n",
            "Epoch 22/200\n",
            "13/13 [==============================] - 0s 6ms/step - loss: 17.8635 - mae: 2.9247 - val_loss: 52.7914 - val_mae: 6.0488\n",
            "Epoch 23/200\n",
            "13/13 [==============================] - 0s 4ms/step - loss: 21.6225 - mae: 3.3585 - val_loss: 36.1751 - val_mae: 4.2540\n",
            "Epoch 24/200\n",
            "13/13 [==============================] - 0s 6ms/step - loss: 18.6440 - mae: 3.0878 - val_loss: 33.4180 - val_mae: 3.5617\n",
            "Epoch 25/200\n",
            "13/13 [==============================] - 0s 6ms/step - loss: 18.3669 - mae: 3.0036 - val_loss: 50.4431 - val_mae: 4.8268\n",
            "Epoch 26/200\n",
            "13/13 [==============================] - 0s 6ms/step - loss: 25.5734 - mae: 3.8003 - val_loss: 36.0547 - val_mae: 3.6341\n",
            "Epoch 27/200\n",
            "13/13 [==============================] - 0s 6ms/step - loss: 18.3248 - mae: 2.9208 - val_loss: 45.7362 - val_mae: 5.5067\n",
            "Epoch 28/200\n",
            "13/13 [==============================] - 0s 6ms/step - loss: 21.9691 - mae: 3.3740 - val_loss: 31.9039 - val_mae: 3.5253\n",
            "Epoch 29/200\n",
            "13/13 [==============================] - 0s 6ms/step - loss: 16.4535 - mae: 2.8035 - val_loss: 31.7641 - val_mae: 3.3995\n",
            "Epoch 30/200\n",
            "13/13 [==============================] - 0s 6ms/step - loss: 22.0460 - mae: 3.4021 - val_loss: 41.0051 - val_mae: 4.0383\n",
            "Epoch 31/200\n",
            "13/13 [==============================] - 0s 6ms/step - loss: 22.0072 - mae: 3.4371 - val_loss: 46.2011 - val_mae: 4.4940\n",
            "Epoch 32/200\n",
            "13/13 [==============================] - 0s 5ms/step - loss: 17.4234 - mae: 2.9028 - val_loss: 30.4999 - val_mae: 3.3951\n",
            "Epoch 33/200\n",
            "13/13 [==============================] - 0s 4ms/step - loss: 21.5460 - mae: 3.3118 - val_loss: 39.3448 - val_mae: 3.8927\n",
            "Epoch 34/200\n",
            "13/13 [==============================] - 0s 4ms/step - loss: 19.7877 - mae: 3.2114 - val_loss: 32.2083 - val_mae: 3.3692\n",
            "Epoch 35/200\n",
            "13/13 [==============================] - 0s 5ms/step - loss: 31.3270 - mae: 4.2356 - val_loss: 44.7293 - val_mae: 4.3352\n",
            "Epoch 36/200\n",
            "13/13 [==============================] - 0s 6ms/step - loss: 19.7098 - mae: 3.2499 - val_loss: 31.5172 - val_mae: 3.5717\n",
            "Epoch 37/200\n",
            "13/13 [==============================] - 0s 5ms/step - loss: 15.9263 - mae: 2.6944 - val_loss: 30.0049 - val_mae: 3.3366\n",
            "Epoch 38/200\n",
            "13/13 [==============================] - 0s 4ms/step - loss: 17.2133 - mae: 2.8680 - val_loss: 32.0898 - val_mae: 3.6010\n",
            "Epoch 39/200\n",
            "13/13 [==============================] - 0s 6ms/step - loss: 18.4605 - mae: 3.0583 - val_loss: 30.0660 - val_mae: 3.3050\n",
            "Epoch 40/200\n",
            "13/13 [==============================] - 0s 5ms/step - loss: 14.8500 - mae: 2.6076 - val_loss: 37.0669 - val_mae: 3.6890\n",
            "Epoch 41/200\n",
            "13/13 [==============================] - 0s 6ms/step - loss: 16.1769 - mae: 2.8004 - val_loss: 30.0711 - val_mae: 3.3585\n",
            "Epoch 42/200\n",
            "13/13 [==============================] - 0s 5ms/step - loss: 16.3690 - mae: 2.7882 - val_loss: 30.3817 - val_mae: 3.3185\n",
            "Epoch 43/200\n",
            "13/13 [==============================] - 0s 5ms/step - loss: 14.9268 - mae: 2.6264 - val_loss: 30.6643 - val_mae: 3.3936\n",
            "Epoch 44/200\n",
            "13/13 [==============================] - 0s 6ms/step - loss: 16.4466 - mae: 2.8197 - val_loss: 30.3773 - val_mae: 3.4417\n",
            "Epoch 45/200\n",
            "13/13 [==============================] - 0s 5ms/step - loss: 15.0976 - mae: 2.6617 - val_loss: 36.5319 - val_mae: 3.6344\n",
            "Epoch 46/200\n",
            "13/13 [==============================] - 0s 5ms/step - loss: 14.5875 - mae: 2.6302 - val_loss: 29.3786 - val_mae: 3.2196\n",
            "Epoch 47/200\n",
            "13/13 [==============================] - 0s 6ms/step - loss: 15.0833 - mae: 2.6197 - val_loss: 29.8728 - val_mae: 3.3551\n",
            "Epoch 48/200\n",
            "13/13 [==============================] - 0s 5ms/step - loss: 17.4986 - mae: 2.9025 - val_loss: 28.7712 - val_mae: 3.2489\n",
            "Epoch 49/200\n",
            "13/13 [==============================] - 0s 6ms/step - loss: 16.2101 - mae: 2.7479 - val_loss: 31.0366 - val_mae: 3.7782\n",
            "Epoch 50/200\n",
            "13/13 [==============================] - 0s 6ms/step - loss: 15.2764 - mae: 2.6804 - val_loss: 31.4467 - val_mae: 3.2583\n",
            "Epoch 51/200\n",
            "13/13 [==============================] - 0s 4ms/step - loss: 16.4945 - mae: 2.8357 - val_loss: 29.2554 - val_mae: 3.1556\n",
            "Epoch 52/200\n",
            "13/13 [==============================] - 0s 5ms/step - loss: 16.5336 - mae: 2.7411 - val_loss: 51.1743 - val_mae: 4.9803\n",
            "Epoch 53/200\n",
            "13/13 [==============================] - 0s 4ms/step - loss: 17.3595 - mae: 2.8561 - val_loss: 29.2871 - val_mae: 3.5803\n",
            "Epoch 54/200\n",
            "13/13 [==============================] - 0s 6ms/step - loss: 16.8724 - mae: 2.8517 - val_loss: 28.4805 - val_mae: 3.1685\n",
            "Epoch 55/200\n",
            "13/13 [==============================] - 0s 5ms/step - loss: 13.9825 - mae: 2.5052 - val_loss: 31.9534 - val_mae: 3.2541\n",
            "Epoch 56/200\n",
            "13/13 [==============================] - 0s 4ms/step - loss: 14.6003 - mae: 2.5933 - val_loss: 28.7793 - val_mae: 3.2932\n",
            "Epoch 57/200\n",
            "13/13 [==============================] - 0s 6ms/step - loss: 14.3034 - mae: 2.5188 - val_loss: 30.6256 - val_mae: 3.1743\n",
            "Epoch 58/200\n",
            "13/13 [==============================] - 0s 6ms/step - loss: 14.7702 - mae: 2.7132 - val_loss: 28.1683 - val_mae: 3.2006\n",
            "Epoch 59/200\n",
            "13/13 [==============================] - 0s 5ms/step - loss: 14.2908 - mae: 2.6257 - val_loss: 29.2442 - val_mae: 3.1084\n",
            "Epoch 60/200\n",
            "13/13 [==============================] - 0s 6ms/step - loss: 14.3574 - mae: 2.5487 - val_loss: 29.3257 - val_mae: 3.0988\n",
            "Epoch 61/200\n",
            "13/13 [==============================] - 0s 5ms/step - loss: 17.5575 - mae: 2.9437 - val_loss: 27.6729 - val_mae: 3.1654\n",
            "Epoch 62/200\n",
            "13/13 [==============================] - 0s 7ms/step - loss: 13.9033 - mae: 2.5653 - val_loss: 27.9478 - val_mae: 3.4148\n",
            "Epoch 63/200\n",
            "13/13 [==============================] - 0s 5ms/step - loss: 14.0313 - mae: 2.5523 - val_loss: 29.4564 - val_mae: 3.1053\n",
            "Epoch 64/200\n",
            "13/13 [==============================] - 0s 5ms/step - loss: 15.0618 - mae: 2.6712 - val_loss: 28.2478 - val_mae: 3.5326\n",
            "Epoch 65/200\n",
            "13/13 [==============================] - 0s 5ms/step - loss: 16.0995 - mae: 2.8850 - val_loss: 28.2495 - val_mae: 3.4240\n",
            "Epoch 66/200\n",
            "13/13 [==============================] - 0s 4ms/step - loss: 15.3857 - mae: 2.6803 - val_loss: 31.5065 - val_mae: 3.2064\n",
            "Epoch 67/200\n",
            "13/13 [==============================] - 0s 5ms/step - loss: 13.6160 - mae: 2.5436 - val_loss: 29.8889 - val_mae: 3.8086\n",
            "Epoch 68/200\n",
            "13/13 [==============================] - 0s 6ms/step - loss: 15.3894 - mae: 2.7289 - val_loss: 27.0480 - val_mae: 3.0310\n",
            "Epoch 69/200\n",
            "13/13 [==============================] - 0s 6ms/step - loss: 13.7331 - mae: 2.5623 - val_loss: 29.6879 - val_mae: 3.7640\n",
            "Epoch 70/200\n",
            "13/13 [==============================] - 0s 6ms/step - loss: 12.8898 - mae: 2.5152 - val_loss: 29.5843 - val_mae: 3.0837\n",
            "Epoch 71/200\n",
            "13/13 [==============================] - 0s 5ms/step - loss: 17.1932 - mae: 2.9831 - val_loss: 27.2985 - val_mae: 3.0109\n",
            "Epoch 72/200\n",
            "13/13 [==============================] - 0s 6ms/step - loss: 13.9539 - mae: 2.5301 - val_loss: 26.9298 - val_mae: 3.0179\n",
            "Epoch 73/200\n",
            "13/13 [==============================] - 0s 6ms/step - loss: 15.0372 - mae: 2.6588 - val_loss: 38.5741 - val_mae: 3.8998\n",
            "Epoch 74/200\n",
            "13/13 [==============================] - 0s 6ms/step - loss: 16.3218 - mae: 2.8447 - val_loss: 29.7684 - val_mae: 3.9613\n",
            "Epoch 75/200\n",
            "13/13 [==============================] - 0s 6ms/step - loss: 15.6157 - mae: 2.7247 - val_loss: 33.0249 - val_mae: 4.3401\n",
            "Epoch 76/200\n",
            "13/13 [==============================] - 0s 6ms/step - loss: 14.4598 - mae: 2.7108 - val_loss: 26.8838 - val_mae: 3.0459\n",
            "Epoch 77/200\n",
            "13/13 [==============================] - 0s 6ms/step - loss: 12.9306 - mae: 2.4588 - val_loss: 26.7610 - val_mae: 3.0163\n",
            "Epoch 78/200\n",
            "13/13 [==============================] - 0s 6ms/step - loss: 15.7241 - mae: 2.8806 - val_loss: 26.1647 - val_mae: 3.1027\n",
            "Epoch 79/200\n",
            "13/13 [==============================] - 0s 5ms/step - loss: 13.2255 - mae: 2.4864 - val_loss: 28.5858 - val_mae: 3.0514\n",
            "Epoch 80/200\n",
            "13/13 [==============================] - 0s 4ms/step - loss: 14.2194 - mae: 2.5195 - val_loss: 53.7571 - val_mae: 5.1650\n",
            "Epoch 81/200\n",
            "13/13 [==============================] - 0s 6ms/step - loss: 16.5889 - mae: 2.8386 - val_loss: 31.4702 - val_mae: 3.2318\n",
            "Epoch 82/200\n",
            "13/13 [==============================] - 0s 6ms/step - loss: 12.2791 - mae: 2.3578 - val_loss: 27.0971 - val_mae: 3.0850\n",
            "Epoch 83/200\n",
            "13/13 [==============================] - 0s 4ms/step - loss: 12.0079 - mae: 2.3000 - val_loss: 28.4203 - val_mae: 3.0130\n",
            "Epoch 84/200\n",
            "13/13 [==============================] - 0s 5ms/step - loss: 12.5666 - mae: 2.4375 - val_loss: 26.6265 - val_mae: 2.9706\n",
            "Epoch 85/200\n",
            "13/13 [==============================] - 0s 4ms/step - loss: 11.9910 - mae: 2.3433 - val_loss: 26.3094 - val_mae: 3.0786\n",
            "Epoch 86/200\n",
            "13/13 [==============================] - 0s 4ms/step - loss: 12.4799 - mae: 2.3823 - val_loss: 28.6255 - val_mae: 3.7295\n",
            "Epoch 87/200\n",
            "13/13 [==============================] - 0s 6ms/step - loss: 15.8520 - mae: 2.7931 - val_loss: 27.8793 - val_mae: 3.0483\n",
            "Epoch 88/200\n",
            "13/13 [==============================] - 0s 4ms/step - loss: 18.7546 - mae: 3.1663 - val_loss: 27.2079 - val_mae: 3.0547\n",
            "Epoch 89/200\n",
            "13/13 [==============================] - 0s 6ms/step - loss: 14.0849 - mae: 2.5740 - val_loss: 33.6365 - val_mae: 3.5344\n",
            "Epoch 90/200\n",
            "13/13 [==============================] - 0s 5ms/step - loss: 12.0679 - mae: 2.3940 - val_loss: 25.5347 - val_mae: 3.0236\n",
            "Epoch 91/200\n",
            "13/13 [==============================] - 0s 5ms/step - loss: 12.0770 - mae: 2.3377 - val_loss: 27.4820 - val_mae: 3.0046\n",
            "Epoch 92/200\n",
            "13/13 [==============================] - 0s 4ms/step - loss: 16.1368 - mae: 2.7682 - val_loss: 53.7186 - val_mae: 5.2981\n",
            "Epoch 93/200\n",
            "13/13 [==============================] - 0s 7ms/step - loss: 14.2421 - mae: 2.5836 - val_loss: 27.9451 - val_mae: 3.0356\n",
            "Epoch 94/200\n",
            "13/13 [==============================] - 0s 8ms/step - loss: 13.1296 - mae: 2.5202 - val_loss: 27.8156 - val_mae: 3.0325\n",
            "Epoch 95/200\n",
            "13/13 [==============================] - 0s 8ms/step - loss: 13.0600 - mae: 2.4899 - val_loss: 27.4338 - val_mae: 3.4942\n",
            "Epoch 96/200\n",
            "13/13 [==============================] - 0s 8ms/step - loss: 13.2147 - mae: 2.5137 - val_loss: 26.6239 - val_mae: 2.9399\n",
            "Epoch 97/200\n",
            "13/13 [==============================] - 0s 7ms/step - loss: 13.0233 - mae: 2.5275 - val_loss: 24.8334 - val_mae: 2.8867\n",
            "Epoch 98/200\n",
            "13/13 [==============================] - 0s 6ms/step - loss: 12.5573 - mae: 2.3997 - val_loss: 24.8153 - val_mae: 3.0934\n",
            "Epoch 99/200\n",
            "13/13 [==============================] - 0s 8ms/step - loss: 12.8574 - mae: 2.4801 - val_loss: 39.1979 - val_mae: 5.2134\n",
            "Epoch 100/200\n",
            "13/13 [==============================] - 0s 7ms/step - loss: 13.1072 - mae: 2.6736 - val_loss: 24.7488 - val_mae: 2.9082\n",
            "Epoch 101/200\n",
            "13/13 [==============================] - 0s 6ms/step - loss: 14.6322 - mae: 2.7054 - val_loss: 30.4664 - val_mae: 4.1618\n",
            "Epoch 102/200\n",
            "13/13 [==============================] - 0s 7ms/step - loss: 12.0335 - mae: 2.3850 - val_loss: 24.5551 - val_mae: 2.8669\n",
            "Epoch 103/200\n",
            "13/13 [==============================] - 0s 7ms/step - loss: 11.4353 - mae: 2.3478 - val_loss: 24.2661 - val_mae: 3.1905\n",
            "Epoch 104/200\n",
            "13/13 [==============================] - 0s 6ms/step - loss: 11.3432 - mae: 2.3277 - val_loss: 24.3728 - val_mae: 2.9842\n",
            "Epoch 105/200\n",
            "13/13 [==============================] - 0s 7ms/step - loss: 11.1764 - mae: 2.3061 - val_loss: 25.7531 - val_mae: 2.9017\n",
            "Epoch 106/200\n",
            "13/13 [==============================] - 0s 8ms/step - loss: 11.9384 - mae: 2.3876 - val_loss: 30.9943 - val_mae: 3.3507\n",
            "Epoch 107/200\n",
            "13/13 [==============================] - 0s 10ms/step - loss: 11.9127 - mae: 2.4161 - val_loss: 26.0191 - val_mae: 2.9347\n",
            "Epoch 108/200\n",
            "13/13 [==============================] - 0s 7ms/step - loss: 11.8634 - mae: 2.3569 - val_loss: 23.7157 - val_mae: 3.0345\n",
            "Epoch 109/200\n",
            "13/13 [==============================] - 0s 7ms/step - loss: 13.2621 - mae: 2.6277 - val_loss: 23.9325 - val_mae: 2.9074\n",
            "Epoch 110/200\n",
            "13/13 [==============================] - 0s 7ms/step - loss: 11.1762 - mae: 2.2858 - val_loss: 24.4144 - val_mae: 2.8885\n",
            "Epoch 111/200\n",
            "13/13 [==============================] - 0s 7ms/step - loss: 12.4932 - mae: 2.4888 - val_loss: 30.0224 - val_mae: 4.3636\n",
            "Epoch 112/200\n",
            "13/13 [==============================] - 0s 7ms/step - loss: 14.1977 - mae: 2.6577 - val_loss: 32.8663 - val_mae: 3.5435\n",
            "Epoch 113/200\n",
            "13/13 [==============================] - 0s 8ms/step - loss: 11.7124 - mae: 2.4263 - val_loss: 25.3113 - val_mae: 2.9141\n",
            "Epoch 114/200\n",
            "13/13 [==============================] - 0s 7ms/step - loss: 11.5691 - mae: 2.3719 - val_loss: 23.6803 - val_mae: 3.2947\n",
            "Epoch 115/200\n",
            "13/13 [==============================] - 0s 8ms/step - loss: 14.6551 - mae: 2.6885 - val_loss: 23.4214 - val_mae: 3.0107\n",
            "Epoch 116/200\n",
            "13/13 [==============================] - 0s 9ms/step - loss: 10.4570 - mae: 2.2077 - val_loss: 28.0348 - val_mae: 3.7831\n",
            "Epoch 117/200\n",
            "13/13 [==============================] - 0s 7ms/step - loss: 14.0540 - mae: 2.7040 - val_loss: 25.4312 - val_mae: 2.9401\n",
            "Epoch 118/200\n",
            "13/13 [==============================] - 0s 6ms/step - loss: 13.5819 - mae: 2.6117 - val_loss: 30.8440 - val_mae: 3.3342\n",
            "Epoch 119/200\n",
            "13/13 [==============================] - 0s 8ms/step - loss: 11.6866 - mae: 2.3731 - val_loss: 24.6896 - val_mae: 2.8999\n",
            "Epoch 120/200\n",
            "13/13 [==============================] - 0s 8ms/step - loss: 11.0470 - mae: 2.3357 - val_loss: 24.2621 - val_mae: 2.8868\n",
            "Epoch 121/200\n",
            "13/13 [==============================] - 0s 6ms/step - loss: 11.9483 - mae: 2.3919 - val_loss: 24.8918 - val_mae: 3.6484\n",
            "Epoch 122/200\n",
            "13/13 [==============================] - 0s 6ms/step - loss: 14.4068 - mae: 2.8000 - val_loss: 24.3888 - val_mae: 3.2574\n",
            "Epoch 123/200\n",
            "13/13 [==============================] - 0s 7ms/step - loss: 10.6406 - mae: 2.2439 - val_loss: 22.4355 - val_mae: 2.8467\n",
            "Epoch 124/200\n",
            "13/13 [==============================] - 0s 7ms/step - loss: 12.2335 - mae: 2.5076 - val_loss: 22.3995 - val_mae: 2.8975\n",
            "Epoch 125/200\n",
            "13/13 [==============================] - 0s 9ms/step - loss: 10.3632 - mae: 2.2360 - val_loss: 23.1041 - val_mae: 3.1503\n",
            "Epoch 126/200\n",
            "13/13 [==============================] - 0s 8ms/step - loss: 12.8822 - mae: 2.5294 - val_loss: 21.9646 - val_mae: 3.0904\n",
            "Epoch 127/200\n",
            "13/13 [==============================] - 0s 9ms/step - loss: 12.7038 - mae: 2.5371 - val_loss: 26.0217 - val_mae: 3.9441\n",
            "Epoch 128/200\n",
            "13/13 [==============================] - 0s 8ms/step - loss: 12.8709 - mae: 2.5641 - val_loss: 24.0491 - val_mae: 2.9234\n",
            "Epoch 129/200\n",
            "13/13 [==============================] - 0s 8ms/step - loss: 12.6231 - mae: 2.5638 - val_loss: 21.1745 - val_mae: 3.0103\n",
            "Epoch 130/200\n",
            "13/13 [==============================] - 0s 8ms/step - loss: 10.0415 - mae: 2.2417 - val_loss: 21.8099 - val_mae: 2.9852\n",
            "Epoch 131/200\n",
            "13/13 [==============================] - 0s 7ms/step - loss: 10.8640 - mae: 2.2623 - val_loss: 22.3432 - val_mae: 3.0845\n",
            "Epoch 132/200\n",
            "13/13 [==============================] - 0s 7ms/step - loss: 9.5711 - mae: 2.1956 - val_loss: 20.6991 - val_mae: 3.0489\n",
            "Epoch 133/200\n",
            "13/13 [==============================] - 0s 8ms/step - loss: 11.5141 - mae: 2.4334 - val_loss: 22.8628 - val_mae: 2.9939\n",
            "Epoch 134/200\n",
            "13/13 [==============================] - 0s 8ms/step - loss: 11.5928 - mae: 2.3957 - val_loss: 21.3544 - val_mae: 2.8720\n",
            "Epoch 135/200\n",
            "13/13 [==============================] - 0s 7ms/step - loss: 10.1945 - mae: 2.2655 - val_loss: 21.2715 - val_mae: 2.8719\n",
            "Epoch 136/200\n",
            "13/13 [==============================] - 0s 8ms/step - loss: 12.1203 - mae: 2.4400 - val_loss: 21.7037 - val_mae: 2.9315\n",
            "Epoch 137/200\n",
            "13/13 [==============================] - 0s 8ms/step - loss: 9.6117 - mae: 2.1518 - val_loss: 32.0827 - val_mae: 4.6675\n",
            "Epoch 138/200\n",
            "13/13 [==============================] - 0s 7ms/step - loss: 13.7126 - mae: 2.6305 - val_loss: 23.9045 - val_mae: 2.9209\n",
            "Epoch 139/200\n",
            "13/13 [==============================] - 0s 7ms/step - loss: 11.1088 - mae: 2.3743 - val_loss: 21.5337 - val_mae: 2.9067\n",
            "Epoch 140/200\n",
            "13/13 [==============================] - 0s 9ms/step - loss: 9.0059 - mae: 2.1076 - val_loss: 27.6456 - val_mae: 4.2220\n",
            "Epoch 141/200\n",
            "13/13 [==============================] - 0s 8ms/step - loss: 12.3910 - mae: 2.4837 - val_loss: 20.2965 - val_mae: 2.9021\n",
            "Epoch 142/200\n",
            "13/13 [==============================] - 0s 8ms/step - loss: 10.5190 - mae: 2.2723 - val_loss: 20.8861 - val_mae: 3.0815\n",
            "Epoch 143/200\n",
            "13/13 [==============================] - 0s 6ms/step - loss: 10.1904 - mae: 2.2952 - val_loss: 23.2822 - val_mae: 2.9487\n",
            "Epoch 144/200\n",
            "13/13 [==============================] - 0s 6ms/step - loss: 9.3953 - mae: 2.1678 - val_loss: 21.9818 - val_mae: 2.9793\n",
            "Epoch 145/200\n",
            "13/13 [==============================] - 0s 5ms/step - loss: 9.3882 - mae: 2.1944 - val_loss: 20.7954 - val_mae: 2.9323\n",
            "Epoch 146/200\n",
            "13/13 [==============================] - 0s 6ms/step - loss: 8.9315 - mae: 2.1203 - val_loss: 21.6604 - val_mae: 3.4922\n",
            "Epoch 147/200\n",
            "13/13 [==============================] - 0s 6ms/step - loss: 10.3432 - mae: 2.3498 - val_loss: 21.2672 - val_mae: 2.8504\n",
            "Epoch 148/200\n",
            "13/13 [==============================] - 0s 7ms/step - loss: 9.2869 - mae: 2.1304 - val_loss: 23.6961 - val_mae: 2.9157\n",
            "Epoch 149/200\n",
            "13/13 [==============================] - 0s 6ms/step - loss: 9.7067 - mae: 2.2101 - val_loss: 21.4115 - val_mae: 3.0116\n",
            "Epoch 150/200\n",
            "13/13 [==============================] - 0s 5ms/step - loss: 9.6160 - mae: 2.2262 - val_loss: 25.2614 - val_mae: 3.0182\n",
            "Epoch 151/200\n",
            "13/13 [==============================] - 0s 5ms/step - loss: 8.4125 - mae: 2.0839 - val_loss: 21.9222 - val_mae: 3.4903\n",
            "Epoch 152/200\n",
            "13/13 [==============================] - 0s 5ms/step - loss: 12.7872 - mae: 2.6427 - val_loss: 24.1106 - val_mae: 3.0183\n",
            "Epoch 153/200\n",
            "13/13 [==============================] - 0s 5ms/step - loss: 10.3038 - mae: 2.2981 - val_loss: 21.3078 - val_mae: 3.1412\n",
            "Epoch 154/200\n",
            "13/13 [==============================] - 0s 5ms/step - loss: 14.4075 - mae: 2.8233 - val_loss: 20.9739 - val_mae: 3.2868\n",
            "Epoch 155/200\n",
            "13/13 [==============================] - 0s 5ms/step - loss: 11.2503 - mae: 2.4094 - val_loss: 20.3594 - val_mae: 3.1094\n",
            "Epoch 156/200\n",
            "13/13 [==============================] - 0s 6ms/step - loss: 12.0938 - mae: 2.5510 - val_loss: 20.8298 - val_mae: 3.2770\n",
            "Epoch 157/200\n",
            "13/13 [==============================] - 0s 6ms/step - loss: 10.4281 - mae: 2.3710 - val_loss: 20.8021 - val_mae: 2.8600\n",
            "Epoch 158/200\n",
            "13/13 [==============================] - 0s 5ms/step - loss: 9.5440 - mae: 2.1879 - val_loss: 20.7816 - val_mae: 3.1754\n",
            "Epoch 159/200\n",
            "13/13 [==============================] - 0s 5ms/step - loss: 10.5729 - mae: 2.3859 - val_loss: 23.6614 - val_mae: 2.9257\n",
            "Epoch 160/200\n",
            "13/13 [==============================] - 0s 5ms/step - loss: 8.6422 - mae: 2.1138 - val_loss: 19.4079 - val_mae: 3.0100\n",
            "Epoch 161/200\n",
            "13/13 [==============================] - 0s 6ms/step - loss: 10.0830 - mae: 2.3096 - val_loss: 19.6385 - val_mae: 2.8254\n",
            "Epoch 162/200\n",
            "13/13 [==============================] - 0s 7ms/step - loss: 11.6317 - mae: 2.5538 - val_loss: 21.5973 - val_mae: 3.1552\n",
            "Epoch 163/200\n",
            "13/13 [==============================] - 0s 6ms/step - loss: 9.6006 - mae: 2.2816 - val_loss: 22.9388 - val_mae: 2.9738\n",
            "Epoch 164/200\n",
            "13/13 [==============================] - 0s 5ms/step - loss: 10.7254 - mae: 2.3251 - val_loss: 31.4431 - val_mae: 3.5586\n",
            "Epoch 165/200\n",
            "13/13 [==============================] - 0s 5ms/step - loss: 9.2516 - mae: 2.1652 - val_loss: 21.5270 - val_mae: 2.9027\n",
            "Epoch 166/200\n",
            "13/13 [==============================] - 0s 6ms/step - loss: 9.9106 - mae: 2.3139 - val_loss: 22.4326 - val_mae: 3.1953\n",
            "Epoch 167/200\n",
            "13/13 [==============================] - 0s 5ms/step - loss: 8.5789 - mae: 2.1385 - val_loss: 20.7961 - val_mae: 3.3187\n",
            "Epoch 168/200\n",
            "13/13 [==============================] - 0s 5ms/step - loss: 8.9611 - mae: 2.1587 - val_loss: 20.4350 - val_mae: 2.9139\n",
            "Epoch 169/200\n",
            "13/13 [==============================] - 0s 6ms/step - loss: 7.9417 - mae: 2.0222 - val_loss: 19.1566 - val_mae: 2.8203\n",
            "Epoch 170/200\n",
            "13/13 [==============================] - 0s 6ms/step - loss: 8.3821 - mae: 2.0666 - val_loss: 29.4984 - val_mae: 3.4860\n",
            "Epoch 171/200\n",
            "13/13 [==============================] - 0s 6ms/step - loss: 10.5025 - mae: 2.4696 - val_loss: 18.8379 - val_mae: 2.8732\n",
            "Epoch 172/200\n",
            "13/13 [==============================] - 0s 6ms/step - loss: 10.2097 - mae: 2.3569 - val_loss: 24.8709 - val_mae: 3.1856\n",
            "Epoch 173/200\n",
            "13/13 [==============================] - 0s 6ms/step - loss: 12.0635 - mae: 2.5858 - val_loss: 34.3807 - val_mae: 3.9141\n",
            "Epoch 174/200\n",
            "13/13 [==============================] - 0s 6ms/step - loss: 10.8705 - mae: 2.3979 - val_loss: 20.5461 - val_mae: 2.8217\n",
            "Epoch 175/200\n",
            "13/13 [==============================] - 0s 7ms/step - loss: 8.6264 - mae: 2.1432 - val_loss: 23.2183 - val_mae: 3.5808\n",
            "Epoch 176/200\n",
            "13/13 [==============================] - 0s 5ms/step - loss: 9.2077 - mae: 2.2228 - val_loss: 20.7340 - val_mae: 2.8914\n",
            "Epoch 177/200\n",
            "13/13 [==============================] - 0s 6ms/step - loss: 8.1742 - mae: 2.1217 - val_loss: 19.8047 - val_mae: 2.8286\n",
            "Epoch 178/200\n",
            "13/13 [==============================] - 0s 5ms/step - loss: 8.4396 - mae: 2.0968 - val_loss: 19.3399 - val_mae: 2.8023\n",
            "Epoch 179/200\n",
            "13/13 [==============================] - 0s 5ms/step - loss: 9.5843 - mae: 2.2938 - val_loss: 23.2017 - val_mae: 2.9908\n",
            "Epoch 180/200\n",
            "13/13 [==============================] - 0s 5ms/step - loss: 8.0128 - mae: 2.0788 - val_loss: 21.6256 - val_mae: 2.8702\n",
            "Epoch 181/200\n",
            "13/13 [==============================] - 0s 5ms/step - loss: 9.4591 - mae: 2.2779 - val_loss: 20.8009 - val_mae: 2.9118\n",
            "Epoch 182/200\n",
            "13/13 [==============================] - 0s 4ms/step - loss: 9.6272 - mae: 2.3141 - val_loss: 19.3620 - val_mae: 2.8715\n",
            "Epoch 183/200\n",
            "13/13 [==============================] - 0s 5ms/step - loss: 9.0678 - mae: 2.2167 - val_loss: 22.4080 - val_mae: 3.0867\n",
            "Epoch 184/200\n",
            "13/13 [==============================] - 0s 6ms/step - loss: 8.3200 - mae: 2.0967 - val_loss: 22.0906 - val_mae: 2.9872\n",
            "Epoch 185/200\n",
            "13/13 [==============================] - 0s 7ms/step - loss: 9.4843 - mae: 2.3020 - val_loss: 19.6962 - val_mae: 2.8236\n",
            "Epoch 186/200\n",
            "13/13 [==============================] - 0s 6ms/step - loss: 9.8424 - mae: 2.2984 - val_loss: 28.5908 - val_mae: 3.4207\n",
            "Epoch 187/200\n",
            "13/13 [==============================] - 0s 6ms/step - loss: 8.5756 - mae: 2.2059 - val_loss: 20.0748 - val_mae: 2.9092\n",
            "Epoch 188/200\n",
            "13/13 [==============================] - 0s 6ms/step - loss: 8.1708 - mae: 2.0696 - val_loss: 21.5389 - val_mae: 3.1561\n",
            "Epoch 189/200\n",
            "13/13 [==============================] - 0s 6ms/step - loss: 8.5183 - mae: 2.1452 - val_loss: 20.2489 - val_mae: 3.1352\n",
            "Epoch 190/200\n",
            "13/13 [==============================] - 0s 6ms/step - loss: 8.9026 - mae: 2.1786 - val_loss: 20.4730 - val_mae: 2.9691\n",
            "Epoch 191/200\n",
            "13/13 [==============================] - 0s 6ms/step - loss: 9.7199 - mae: 2.3060 - val_loss: 20.7876 - val_mae: 3.1507\n",
            "Epoch 192/200\n",
            "13/13 [==============================] - 0s 5ms/step - loss: 8.0527 - mae: 2.0666 - val_loss: 19.3602 - val_mae: 3.1253\n",
            "Epoch 193/200\n",
            "13/13 [==============================] - 0s 6ms/step - loss: 7.9073 - mae: 2.0556 - val_loss: 22.2017 - val_mae: 2.9100\n",
            "Epoch 194/200\n",
            "13/13 [==============================] - 0s 5ms/step - loss: 8.8778 - mae: 2.2365 - val_loss: 19.5056 - val_mae: 2.8245\n",
            "Epoch 195/200\n",
            "13/13 [==============================] - 0s 4ms/step - loss: 7.9278 - mae: 2.0569 - val_loss: 18.8397 - val_mae: 2.7893\n",
            "Epoch 196/200\n",
            "13/13 [==============================] - 0s 5ms/step - loss: 8.4152 - mae: 2.1580 - val_loss: 24.5185 - val_mae: 3.0809\n",
            "Epoch 197/200\n",
            "13/13 [==============================] - 0s 6ms/step - loss: 7.6744 - mae: 2.0597 - val_loss: 23.0629 - val_mae: 3.0316\n",
            "Epoch 198/200\n",
            "13/13 [==============================] - 0s 6ms/step - loss: 8.9337 - mae: 2.2211 - val_loss: 19.5777 - val_mae: 3.0500\n",
            "Epoch 199/200\n",
            "13/13 [==============================] - 0s 6ms/step - loss: 8.0134 - mae: 2.0678 - val_loss: 22.7983 - val_mae: 3.1059\n",
            "Epoch 200/200\n",
            "13/13 [==============================] - 0s 6ms/step - loss: 9.3620 - mae: 2.3098 - val_loss: 20.3238 - val_mae: 2.8272\n"
          ]
        }
      ]
    },
    {
      "cell_type": "markdown",
      "metadata": {
        "id": "mvlGXR3yVMYo"
      },
      "source": [
        "#### 1.6. Делаем предсказания на тестовых данных"
      ]
    },
    {
      "cell_type": "code",
      "source": [
        "# Ваш код\n",
        "preds = model.predict(X_test)\n"
      ],
      "metadata": {
        "id": "Rui6kjT01jEA",
        "colab": {
          "base_uri": "https://localhost:8080/"
        },
        "outputId": "71630b74-452b-464f-dbb0-88bcd5faf818"
      },
      "execution_count": 12,
      "outputs": [
        {
          "output_type": "stream",
          "name": "stdout",
          "text": [
            "4/4 [==============================] - 0s 3ms/step\n"
          ]
        }
      ]
    },
    {
      "cell_type": "markdown",
      "metadata": {
        "id": "NLsmmLVkVhkL"
      },
      "source": [
        "#### 1.7. Вычисляем метрику качества на тестовых данных"
      ]
    },
    {
      "cell_type": "code",
      "source": [
        "# Ваш код\n",
        "from sklearn.metrics import mean_absolute_error\n",
        "\n",
        "mean_absolute_error(preds, y_test)"
      ],
      "metadata": {
        "id": "V8cpkQnr1jcS",
        "colab": {
          "base_uri": "https://localhost:8080/"
        },
        "outputId": "e981385e-553e-4c7b-a07c-7cf8c123798e"
      },
      "execution_count": 13,
      "outputs": [
        {
          "output_type": "execute_result",
          "data": {
            "text/plain": [
              "2.827168761047663"
            ]
          },
          "metadata": {},
          "execution_count": 13
        }
      ]
    },
    {
      "cell_type": "markdown",
      "metadata": {
        "id": "d4eyitaoKx_E"
      },
      "source": [
        "#### 1.8. Строим график обучения"
      ]
    },
    {
      "cell_type": "code",
      "source": [
        "# Ваш код\n",
        "plt.plot(stude.history['loss'], label='Train loss')\n",
        "plt.plot(stude.history['val_loss'], label='Val loss')\n",
        "plt.legend()\n",
        "plt.show()"
      ],
      "metadata": {
        "id": "tw-JEpqm1jyK",
        "colab": {
          "base_uri": "https://localhost:8080/",
          "height": 430
        },
        "outputId": "cc866799-8bf7-4ce0-ca1c-5e73881361f5"
      },
      "execution_count": 14,
      "outputs": [
        {
          "output_type": "display_data",
          "data": {
            "text/plain": [
              "<Figure size 640x480 with 1 Axes>"
            ],
            "image/png": "[encoded data removed]"
          },
          "metadata": {}
        }
      ]
    },
    {
      "cell_type": "markdown",
      "metadata": {
        "id": "XYMsbjaoMEqT"
      },
      "source": [
        "#### 1.9. Построение графического интерфейса в Gradio Проверка обученной модели пользовательскими данными"
      ]
    },
    {
      "cell_type": "code",
      "source": [
        "# Ваш код\n",
        "def preprocess_input(features, scale_model=\"scaler.pkl\"):\n",
        "\n",
        "  \"\"\"\n",
        "  Функция преобразует входные данные в формат,\n",
        "  подходящий для модели машинного обучения.\n",
        "\n",
        "  Args:\n",
        "      features: Список или массив с входными признаками.\n",
        "      scale_model: Путь к файлу с сохраненной моделью масштабирования.\n",
        "\n",
        "  Returns:\n",
        "      Преобразованный массив признаков.\n",
        "  \"\"\"\n",
        "\n",
        "  try:\n",
        "    # Преобразование в NumPy массив\n",
        "    features = np.array(features)\n",
        "\n",
        "    # Проверка на пустой массив\n",
        "    if not features.size:\n",
        "      raise ValueError(\"Пустой массив признаков!\")\n",
        "\n",
        "    # Изменение размерности массива (8,) -> (1, 8)\n",
        "    features = features.reshape(1, -1)\n",
        "\n",
        "    # Загрузка модели масштабирования\n",
        "    with open(scale_model, \"rb\") as f:\n",
        "      scaler = pickle.load(f)\n",
        "\n",
        "    # Масштабирование признаков\n",
        "    features = scaler.transform(features)\n",
        "\n",
        "  except Exception as e:\n",
        "    raise ValueError(f\"Ошибка при предобработке: {e}\")\n",
        "\n",
        "  return features\n",
        "\n",
        "def predict_price(*features):\n",
        "\n",
        "  \"\"\"\n",
        "  Функция прогнозирует цену на основе предобработанных\n",
        "  входных признаков.\n",
        "\n",
        "  Args:\n",
        "      features: Список или массив с входными признаками.\n",
        "\n",
        "  Returns:\n",
        "      Прогнозируемая цена (в долларах).\n",
        "  \"\"\"\n",
        "\n",
        "  try:\n",
        "    # Предобработка входных признаков\n",
        "    features = preprocess_input(features)\n",
        "\n",
        "    # Прогнозирование цены\n",
        "    prediction = model.predict(features, verbose=0)\n",
        "\n",
        "    # Проверка на ошибки прогнозирования\n",
        "    if np.isnan(prediction).any():\n",
        "      raise ValueError(\"Ошибка при прогнозировании: NaN\")\n",
        "\n",
        "  except Exception as e:\n",
        "    raise ValueError(f\"Ошибка при прогнозировании: {e}\")\n",
        "\n",
        "  # Возвращение прогнозируемой цены\n",
        "  # (умножение на 1000 для отображения в тысячах долларов)\n",
        "  return f\"{prediction[0][0] * 1000}\""
      ],
      "metadata": {
        "id": "x-dyoItx2JN_"
      },
      "execution_count": 15,
      "outputs": []
    },
    {
      "cell_type": "code",
      "source": [
        "!pip install gradio"
      ],
      "metadata": {
        "colab": {
          "base_uri": "https://localhost:8080/"
        },
        "id": "NeVLMWLBR4ST",
        "outputId": "c9553396-ead1-4418-bbf6-68a5f8b6a217"
      },
      "execution_count": 16,
      "outputs": [
        {
          "output_type": "stream",
          "name": "stdout",
          "text": [
            "Requirement already satisfied: gradio in /usr/local/lib/python3.10/dist-packages (4.31.4)\n",
            "Requirement already satisfied: aiofiles<24.0,>=22.0 in /usr/local/lib/python3.10/dist-packages (from gradio) (23.2.1)\n",
            "Requirement already satisfied: altair<6.0,>=4.2.0 in /usr/local/lib/python3.10/dist-packages (from gradio) (4.2.2)\n",
            "Requirement already satisfied: fastapi in /usr/local/lib/python3.10/dist-packages (from gradio) (0.111.0)\n",
            "Requirement already satisfied: ffmpy in /usr/local/lib/python3.10/dist-packages (from gradio) (0.3.2)\n",
            "Requirement already satisfied: gradio-client==0.16.4 in /usr/local/lib/python3.10/dist-packages (from gradio) (0.16.4)\n",
            "Requirement already satisfied: httpx>=0.24.1 in /usr/local/lib/python3.10/dist-packages (from gradio) (0.27.0)\n",
            "Requirement already satisfied: huggingface-hub>=0.19.3 in /usr/local/lib/python3.10/dist-packages (from gradio) (0.20.3)\n",
            "Requirement already satisfied: importlib-resources<7.0,>=1.3 in /usr/local/lib/python3.10/dist-packages (from gradio) (6.4.0)\n",
            "Requirement already satisfied: jinja2<4.0 in /usr/local/lib/python3.10/dist-packages (from gradio) (3.1.4)\n",
            "Requirement already satisfied: markupsafe~=2.0 in /usr/local/lib/python3.10/dist-packages (from gradio) (2.1.5)\n",
            "Requirement already satisfied: matplotlib~=3.0 in /usr/local/lib/python3.10/dist-packages (from gradio) (3.7.1)\n",
            "Requirement already satisfied: numpy~=1.0 in /usr/local/lib/python3.10/dist-packages (from gradio) (1.25.2)\n",
            "Requirement already satisfied: orjson~=3.0 in /usr/local/lib/python3.10/dist-packages (from gradio) (3.10.3)\n",
            "Requirement already satisfied: packaging in /usr/local/lib/python3.10/dist-packages (from gradio) (24.0)\n",
            "Requirement already satisfied: pandas<3.0,>=1.0 in /usr/local/lib/python3.10/dist-packages (from gradio) (2.0.3)\n",
            "Requirement already satisfied: pillow<11.0,>=8.0 in /usr/local/lib/python3.10/dist-packages (from gradio) (9.4.0)\n",
            "Requirement already satisfied: pydantic>=2.0 in /usr/local/lib/python3.10/dist-packages (from gradio) (2.7.1)\n",
            "Requirement already satisfied: pydub in /usr/local/lib/python3.10/dist-packages (from gradio) (0.25.1)\n",
            "Requirement already satisfied: python-multipart>=0.0.9 in /usr/local/lib/python3.10/dist-packages (from gradio) (0.0.9)\n",
            "Requirement already satisfied: pyyaml<7.0,>=5.0 in /usr/local/lib/python3.10/dist-packages (from gradio) (6.0.1)\n",
            "Requirement already satisfied: ruff>=0.2.2 in /usr/local/lib/python3.10/dist-packages (from gradio) (0.4.4)\n",
            "Requirement already satisfied: semantic-version~=2.0 in /usr/local/lib/python3.10/dist-packages (from gradio) (2.10.0)\n",
            "Requirement already satisfied: tomlkit==0.12.0 in /usr/local/lib/python3.10/dist-packages (from gradio) (0.12.0)\n",
            "Requirement already satisfied: typer<1.0,>=0.12 in /usr/local/lib/python3.10/dist-packages (from gradio) (0.12.3)\n",
            "Requirement already satisfied: typing-extensions~=4.0 in /usr/local/lib/python3.10/dist-packages (from gradio) (4.11.0)\n",
            "Requirement already satisfied: urllib3~=2.0 in /usr/local/lib/python3.10/dist-packages (from gradio) (2.0.7)\n",
            "Requirement already satisfied: uvicorn>=0.14.0 in /usr/local/lib/python3.10/dist-packages (from gradio) (0.29.0)\n",
            "Requirement already satisfied: fsspec in /usr/local/lib/python3.10/dist-packages (from gradio-client==0.16.4->gradio) (2023.6.0)\n",
            "Requirement already satisfied: websockets<12.0,>=10.0 in /usr/local/lib/python3.10/dist-packages (from gradio-client==0.16.4->gradio) (11.0.3)\n",
            "Requirement already satisfied: entrypoints in /usr/local/lib/python3.10/dist-packages (from altair<6.0,>=4.2.0->gradio) (0.4)\n",
            "Requirement already satisfied: jsonschema>=3.0 in /usr/local/lib/python3.10/dist-packages (from altair<6.0,>=4.2.0->gradio) (4.19.2)\n",
            "Requirement already satisfied: toolz in /usr/local/lib/python3.10/dist-packages (from altair<6.0,>=4.2.0->gradio) (0.12.1)\n",
            "Requirement already satisfied: anyio in /usr/local/lib/python3.10/dist-packages (from httpx>=0.24.1->gradio) (3.7.1)\n",
            "Requirement already satisfied: certifi in /usr/local/lib/python3.10/dist-packages (from httpx>=0.24.1->gradio) (2024.2.2)\n",
            "Requirement already satisfied: httpcore==1.* in /usr/local/lib/python3.10/dist-packages (from httpx>=0.24.1->gradio) (1.0.5)\n",
            "Requirement already satisfied: idna in /usr/local/lib/python3.10/dist-packages (from httpx>=0.24.1->gradio) (3.7)\n",
            "Requirement already satisfied: sniffio in /usr/local/lib/python3.10/dist-packages (from httpx>=0.24.1->gradio) (1.3.1)\n",
            "Requirement already satisfied: h11<0.15,>=0.13 in /usr/local/lib/python3.10/dist-packages (from httpcore==1.*->httpx>=0.24.1->gradio) (0.14.0)\n",
            "Requirement already satisfied: filelock in /usr/local/lib/python3.10/dist-packages (from huggingface-hub>=0.19.3->gradio) (3.14.0)\n",
            "Requirement already satisfied: requests in /usr/local/lib/python3.10/dist-packages (from huggingface-hub>=0.19.3->gradio) (2.31.0)\n",
            "Requirement already satisfied: tqdm>=4.42.1 in /usr/local/lib/python3.10/dist-packages (from huggingface-hub>=0.19.3->gradio) (4.66.4)\n",
            "Requirement already satisfied: contourpy>=1.0.1 in /usr/local/lib/python3.10/dist-packages (from matplotlib~=3.0->gradio) (1.2.1)\n",
            "Requirement already satisfied: cycler>=0.10 in /usr/local/lib/python3.10/dist-packages (from matplotlib~=3.0->gradio) (0.12.1)\n",
            "Requirement already satisfied: fonttools>=4.22.0 in /usr/local/lib/python3.10/dist-packages (from matplotlib~=3.0->gradio) (4.51.0)\n",
            "Requirement already satisfied: kiwisolver>=1.0.1 in /usr/local/lib/python3.10/dist-packages (from matplotlib~=3.0->gradio) (1.4.5)\n",
            "Requirement already satisfied: pyparsing>=2.3.1 in /usr/local/lib/python3.10/dist-packages (from matplotlib~=3.0->gradio) (3.1.2)\n",
            "Requirement already satisfied: python-dateutil>=2.7 in /usr/local/lib/python3.10/dist-packages (from matplotlib~=3.0->gradio) (2.8.2)\n",
            "Requirement already satisfied: pytz>=2020.1 in /usr/local/lib/python3.10/dist-packages (from pandas<3.0,>=1.0->gradio) (2023.4)\n",
            "Requirement already satisfied: tzdata>=2022.1 in /usr/local/lib/python3.10/dist-packages (from pandas<3.0,>=1.0->gradio) (2024.1)\n",
            "Requirement already satisfied: annotated-types>=0.4.0 in /usr/local/lib/python3.10/dist-packages (from pydantic>=2.0->gradio) (0.6.0)\n",
            "Requirement already satisfied: pydantic-core==2.18.2 in /usr/local/lib/python3.10/dist-packages (from pydantic>=2.0->gradio) (2.18.2)\n",
            "Requirement already satisfied: click>=8.0.0 in /usr/local/lib/python3.10/dist-packages (from typer<1.0,>=0.12->gradio) (8.1.7)\n",
            "Requirement already satisfied: shellingham>=1.3.0 in /usr/local/lib/python3.10/dist-packages (from typer<1.0,>=0.12->gradio) (1.5.4)\n",
            "Requirement already satisfied: rich>=10.11.0 in /usr/local/lib/python3.10/dist-packages (from typer<1.0,>=0.12->gradio) (13.7.1)\n",
            "Requirement already satisfied: starlette<0.38.0,>=0.37.2 in /usr/local/lib/python3.10/dist-packages (from fastapi->gradio) (0.37.2)\n",
            "Requirement already satisfied: fastapi-cli>=0.0.2 in /usr/local/lib/python3.10/dist-packages (from fastapi->gradio) (0.0.4)\n",
            "Requirement already satisfied: ujson!=4.0.2,!=4.1.0,!=4.2.0,!=4.3.0,!=5.0.0,!=5.1.0,>=4.0.1 in /usr/local/lib/python3.10/dist-packages (from fastapi->gradio) (5.10.0)\n",
            "Requirement already satisfied: email_validator>=2.0.0 in /usr/local/lib/python3.10/dist-packages (from fastapi->gradio) (2.1.1)\n",
            "Requirement already satisfied: dnspython>=2.0.0 in /usr/local/lib/python3.10/dist-packages (from email_validator>=2.0.0->fastapi->gradio) (2.6.1)\n",
            "Requirement already satisfied: attrs>=22.2.0 in /usr/local/lib/python3.10/dist-packages (from jsonschema>=3.0->altair<6.0,>=4.2.0->gradio) (23.2.0)\n",
            "Requirement already satisfied: jsonschema-specifications>=2023.03.6 in /usr/local/lib/python3.10/dist-packages (from jsonschema>=3.0->altair<6.0,>=4.2.0->gradio) (2023.12.1)\n",
            "Requirement already satisfied: referencing>=0.28.4 in /usr/local/lib/python3.10/dist-packages (from jsonschema>=3.0->altair<6.0,>=4.2.0->gradio) (0.35.1)\n",
            "Requirement already satisfied: rpds-py>=0.7.1 in /usr/local/lib/python3.10/dist-packages (from jsonschema>=3.0->altair<6.0,>=4.2.0->gradio) (0.18.1)\n",
            "Requirement already satisfied: six>=1.5 in /usr/local/lib/python3.10/dist-packages (from python-dateutil>=2.7->matplotlib~=3.0->gradio) (1.16.0)\n",
            "Requirement already satisfied: markdown-it-py>=2.2.0 in /usr/local/lib/python3.10/dist-packages (from rich>=10.11.0->typer<1.0,>=0.12->gradio) (3.0.0)\n",
            "Requirement already satisfied: pygments<3.0.0,>=2.13.0 in /usr/local/lib/python3.10/dist-packages (from rich>=10.11.0->typer<1.0,>=0.12->gradio) (2.16.1)\n",
            "Requirement already satisfied: exceptiongroup in /usr/local/lib/python3.10/dist-packages (from anyio->httpx>=0.24.1->gradio) (1.2.1)\n",
            "Requirement already satisfied: httptools>=0.5.0 in /usr/local/lib/python3.10/dist-packages (from uvicorn>=0.14.0->gradio) (0.6.1)\n",
            "Requirement already satisfied: python-dotenv>=0.13 in /usr/local/lib/python3.10/dist-packages (from uvicorn>=0.14.0->gradio) (1.0.1)\n",
            "Requirement already satisfied: uvloop!=0.15.0,!=0.15.1,>=0.14.0 in /usr/local/lib/python3.10/dist-packages (from uvicorn>=0.14.0->gradio) (0.19.0)\n",
            "Requirement already satisfied: watchfiles>=0.13 in /usr/local/lib/python3.10/dist-packages (from uvicorn>=0.14.0->gradio) (0.21.0)\n",
            "Requirement already satisfied: charset-normalizer<4,>=2 in /usr/local/lib/python3.10/dist-packages (from requests->huggingface-hub>=0.19.3->gradio) (3.3.2)\n",
            "Requirement already satisfied: mdurl~=0.1 in /usr/local/lib/python3.10/dist-packages (from markdown-it-py>=2.2.0->rich>=10.11.0->typer<1.0,>=0.12->gradio) (0.1.2)\n"
          ]
        }
      ]
    },
    {
      "cell_type": "code",
      "source": [
        "import gradio as gr\n",
        "\n",
        "# Интерфейс Gradio\n",
        "interface = gr.Interface(\n",
        "    fn=predict_price,\n",
        "    inputs=[\n",
        "        gr.Slider(label=\"CRIM\", minimum=0.5, maximum=15, step=0.1, value=8.3252),\n",
        "        gr.Slider(label=\"ZN\", minimum=1, maximum=50, step=1, value=41.0),\n",
        "        gr.Slider(label=\"INDUS\", minimum=1, maximum=20, step=0.01, value=6.984127),\n",
        "        gr.Slider(label=\"CHAS\", minimum=0, maximum=1, step=0.01, value=0.23810),\n",
        "        gr.Slider(label=\"NOX\", minimum=0, maximum=0.8, step=0.01, value=0.5),\n",
        "        gr.Slider(label=\"RM\", minimum=4, maximum=8.5, step=0.1, value=6.555556),\n",
        "        gr.Slider(label=\"AGE\", minimum=3, maximum=100, step=0.1, value=37.88),\n",
        "        gr.Slider(label=\"DIS\", minimum=1.15, maximum=12, step=0.1, value=10.23),\n",
        "        gr.Slider(label=\"TAX\", minimum=187, maximum=711, step=0.1, value=400.23),\n",
        "        gr.Slider(label=\"PTRATIO\", minimum=12.6, maximum=22, step=0.1, value=16.23),\n",
        "        gr.Slider(label=\"B\", minimum=0.32, maximum=396.9, step=0.1, value=122.23),\n",
        "        gr.Slider(label=\"LSTAT\", minimum=1.73, maximum=37.97, step=0.1, value=12.54),\n",
        "    ],\n",
        "    live=True,\n",
        "    outputs=gr.Text(label=\"Predicted Price ($)\"),\n",
        ")\n",
        "\n"
      ],
      "metadata": {
        "collapsed": true,
        "id": "BaHloqSlSAAU"
      },
      "execution_count": 17,
      "outputs": []
    },
    {
      "cell_type": "markdown",
      "source": [
        "#### 2. Проверка обученной модели пользовательскими данными"
      ],
      "metadata": {
        "id": "8UQpi9te2D4J"
      }
    },
    {
      "cell_type": "code",
      "source": [
        "# Ваш код\n",
        "# Запуск интерфейса\n",
        "interface.launch(debug=True, share=True)"
      ],
      "metadata": {
        "id": "9aohXWhb2Jjh",
        "colab": {
          "base_uri": "https://localhost:8080/",
          "height": 626
        },
        "outputId": "bd6f7866-b41b-484f-c558-22aab971a9cd"
      },
      "execution_count": 18,
      "outputs": [
        {
          "output_type": "stream",
          "name": "stdout",
          "text": [
            "Colab notebook detected. This cell will run indefinitely so that you can see errors and logs. To turn off, set debug=False in launch().\n",
            "Running on public URL: https://1d4b44df71a3944236.gradio.live\n",
            "\n",
            "This share link expires in 72 hours. For free permanent hosting and GPU upgrades, run `gradio deploy` from Terminal to deploy to Spaces (https://huggingface.co/spaces)\n"
          ]
        },
        {
          "output_type": "display_data",
          "data": {
            "text/plain": [
              "<IPython.core.display.HTML object>"
            ],
            "text/html": [
              "<div><iframe src=\"https://1d4b44df71a3944236.gradio.live\" width=\"100%\" height=\"500\" allow=\"autoplay; camera; microphone; clipboard-read; clipboard-write;\" frameborder=\"0\" allowfullscreen></iframe></div>"
            ]
          },
          "metadata": {}
        },
        {
          "output_type": "stream",
          "name": "stdout",
          "text": [
            "Keyboard interruption in main thread... closing server.\n",
            "Killing tunnel 127.0.0.1:7860 <> https://1d4b44df71a3944236.gradio.live\n"
          ]
        },
        {
          "output_type": "execute_result",
          "data": {
            "text/plain": []
          },
          "metadata": {},
          "execution_count": 18
        }
      ]
    },
    {
      "cell_type": "markdown",
      "source": [
        "## Задание №2.Обучение модели ИНС для решения задачи классификации\n",
        "\n"
      ],
      "metadata": {
        "id": "DQQMXC8garr3"
      }
    },
    {
      "cell_type": "markdown",
      "source": [
        "Порядок работы:"
      ],
      "metadata": {
        "id": "1OAwSdaG36Ip"
      }
    },
    {
      "cell_type": "markdown",
      "source": [
        "* 1. Собрать датасет из изображений, соответствующих не менее, чем 3 классам объектов (в\n",
        "примере с пары были кошки, собаки и панды).\n"
      ],
      "metadata": {
        "id": "q8COT3YubK-X"
      }
    },
    {
      "cell_type": "markdown",
      "source": [
        "- 2. Для каждого класса должно быть собрано не менее 1000 изображений. Количество\n",
        "изображений для каждого класса должно быть одинаковым.\n",
        "Готовые датасеты можно скачать отсюда: https://www.kaggle.com/\n"
      ],
      "metadata": {
        "id": "YstDH7J2bM5F"
      }
    },
    {
      "cell_type": "markdown",
      "source": [
        "- 3. Обучить модель глубокой нейронной сети для решения задачи классификации\n",
        "изображений, по выбранным Вами классам. (В качестве примера приведён код с пары)\n",
        "В конечном итоге Вы должны сохранить обученную модель для классификации\n",
        "изображений, соответствующих тем классам, которые Вы выбрали, а затем воспользоваться этой моделью для предсказания классов на пользовательских изображениях.\n",
        "\n"
      ],
      "metadata": {
        "id": "9aTvc3A4bN_h"
      }
    },
    {
      "cell_type": "markdown",
      "source": [
        "> При выполнении заданий пробуйте использовать разные функции потерь,\n",
        "методы оптимизации, функции активации и метрики ошибок."
      ],
      "metadata": {
        "id": "yKU34aHabUfp"
      }
    },
    {
      "cell_type": "markdown",
      "source": [
        "### 1. Устанавливаем зависимости:"
      ],
      "metadata": {
        "id": "l8zEG_g8O-Ge"
      }
    },
    {
      "cell_type": "code",
      "execution_count": 19,
      "metadata": {
        "id": "sh6kN7IMO8de"
      },
      "outputs": [],
      "source": [
        "# Импортируем LabelBinarizer для преобразования текстовых меток в векторы\n",
        "# (например, \"кошка\" -> [1, 0, 0], \"собака\" -> [0, 1, 0], \"панда\" -> [0, 0, 1])\n",
        "from sklearn.preprocessing import LabelBinarizer\n",
        "\n",
        "# Импортируем train_test_split для разделения данных на обучающую и тестовую выборки\n",
        "from sklearn.model_selection import train_test_split\n",
        "\n",
        "# Импортируем classification_report для оценки качества классификации\n",
        "from sklearn.metrics import classification_report\n",
        "\n",
        "# Импортируем Sequential для создания последовательной модели нейронной сети\n",
        "from keras.models import Sequential\n",
        "\n",
        "# Импортируем Dense для создания плотных слоев нейронной сети\n",
        "from keras.layers import Dense\n",
        "\n",
        "# Импортируем SGD и Adam для оптимизации обучения нейронной сети\n",
        "from keras.optimizers import SGD, Adam\n",
        "\n",
        "# Импортируем paths из imutils для удобной работы с путями к изображениям\n",
        "from imutils import paths\n",
        "\n",
        "# Импортируем pyplot из matplotlib для визуализации данных\n",
        "import matplotlib.pyplot as plt\n",
        "\n",
        "# Импортируем numpy для работы с массивами данных\n",
        "import numpy as np\n",
        "\n",
        "# Импортируем random для генерации случайных чисел\n",
        "import random\n",
        "\n",
        "# Импортируем pickle для сериализации и десериализации данных\n",
        "import pickle\n",
        "\n",
        "# Импортируем cv2 для работы с изображениями\n",
        "import cv2\n",
        "\n",
        "# Импортируем os для работы с файловой системой\n",
        "import os\n",
        "\n",
        "# Импортируем cv2_imshow из google.colab.patches для отображения изображений в Colab\n",
        "from google.colab.patches import cv2_imshow"
      ]
    },
    {
      "cell_type": "markdown",
      "source": [
        "### 2. Загружаем набор данных:"
      ],
      "metadata": {
        "id": "aJextk3pO8Ko"
      }
    },
    {
      "cell_type": "code",
      "execution_count": 39,
      "metadata": {
        "id": "ZQOhPesK2-J8"
      },
      "outputs": [],
      "source": [
        "# Ваш код\n",
        "imagePaths = sorted(list(paths.list_images(\"/content/drive/MyDrive/Задание_2/dataset/train\")))\n",
        "random.shuffle(imagePaths)"
      ]
    },
    {
      "cell_type": "markdown",
      "source": [
        "### 3. Указываем путь к набору данных:"
      ],
      "metadata": {
        "id": "pX1km_kyV2Ka"
      }
    },
    {
      "cell_type": "code",
      "execution_count": 21,
      "metadata": {
        "id": "hAqtXKu62-bU"
      },
      "outputs": [],
      "source": [
        "# Ваш код"
      ]
    },
    {
      "cell_type": "markdown",
      "source": [
        "### 4. Загружаем набор данных и формируем общую выборку:"
      ],
      "metadata": {
        "id": "sAYZPzKSVobq"
      }
    },
    {
      "cell_type": "code",
      "execution_count": 41,
      "metadata": {
        "id": "1dqs5r-92-x7"
      },
      "outputs": [],
      "source": [
        "# Ваш код\n",
        "def load_images(imagePaths, compression_size = 32):\n",
        "  \"\"\"\n",
        "  Функция для загрузки изображений и преобразования их в векторы признаков.\n",
        "\n",
        "  Args:\n",
        "    imagePaths: список путей к изображениям.\n",
        "    compression_size: размер сжатия изображения\n",
        "\n",
        "  Returns:\n",
        "    data: список векторов признаков (сжатых изображений, преобразованных в векторы).\n",
        "    labels: список меток классов.\n",
        "  \"\"\"\n",
        "\n",
        "  data = []\n",
        "  labels = []\n",
        "\n",
        "  for imagePath in imagePaths:\n",
        "    # Загрузка изображения\n",
        "    image = cv2.imread(imagePath)\n",
        "\n",
        "    # Изменение разрешения изображения (по умолчанию 32х32х3 -> 3072,)\n",
        "    image = cv2.resize(image, (compression_size, compression_size)).flatten()\n",
        "\n",
        "    # Добавление изображения в список\n",
        "    data.append(image)\n",
        "\n",
        "    # Извлечение метки класса из пути к изображению\n",
        "    label = imagePath.split(os.path.sep)[-2]\n",
        "\n",
        "    # Добавление метки в список\n",
        "    labels.append(label)\n",
        "\n",
        "  return data, labels"
      ]
    },
    {
      "cell_type": "code",
      "source": [
        "compression_size = 32\n",
        "\n",
        "data, labels = load_images(imagePaths, compression_size)"
      ],
      "metadata": {
        "id": "uHZ0M5p8n9xF"
      },
      "execution_count": 42,
      "outputs": []
    },
    {
      "cell_type": "markdown",
      "source": [
        "#### 4.1. Нормализуем данные:"
      ],
      "metadata": {
        "id": "yeiILoUSXn4c"
      }
    },
    {
      "cell_type": "markdown",
      "source": [
        "Масштабируем интенсивности пикселей в диапазон [0, 1], а также преобразуем данные в массивы NumPy для повышения производительности\n"
      ],
      "metadata": {
        "id": "PceSnJBEZDPm"
      }
    },
    {
      "cell_type": "code",
      "execution_count": 44,
      "metadata": {
        "id": "wejqgr9U2_hf"
      },
      "outputs": [],
      "source": [
        "# Ваш код\n",
        "data = np.array(data, dtype=\"float\") / 255.0\n",
        "labels = np.array(labels)"
      ]
    },
    {
      "cell_type": "markdown",
      "source": [
        "#### 4.2. Формируем обучающую и валидационную выборки:"
      ],
      "metadata": {
        "id": "lREm4zIRaSsx"
      }
    },
    {
      "cell_type": "markdown",
      "source": [
        "Разделяем данные на обучающую и валидационную выборки, используя 75% данных для обучения и оставшиеся 25% для валидации"
      ],
      "metadata": {
        "id": "lwTSSQkPa9oI"
      }
    },
    {
      "cell_type": "code",
      "execution_count": 63,
      "metadata": {
        "id": "R23UTovQ3A7R"
      },
      "outputs": [],
      "source": [
        "# Ваш код\n",
        "(X_train, X_val, Y_train, Y_val) = train_test_split(data, labels, test_size=0.25, random_state=42)\n",
        "\n",
        "lb = LabelBinarizer()\n",
        "Y_train = lb.fit_transform(Y_train)\n",
        "Y_val = lb.transform(Y_val)"
      ]
    },
    {
      "cell_type": "markdown",
      "source": [
        "### 5. Создание модели:"
      ],
      "metadata": {
        "id": "Sz33nCuvc3Pk"
      }
    },
    {
      "cell_type": "markdown",
      "source": [
        "#### 5.1. Определим архитектуру модели с помощью Keras:"
      ],
      "metadata": {
        "id": "r2mcOGxEc-uB"
      }
    },
    {
      "cell_type": "code",
      "execution_count": 64,
      "metadata": {
        "id": "nj_bAWxv3B0B"
      },
      "outputs": [],
      "source": [
        "input_shape = (compression_size * compression_size * 3,)"
      ]
    },
    {
      "cell_type": "code",
      "source": [
        "model = Sequential([\n",
        "    Dense(1024, input_shape=input_shape, activation=\"relu\"),\n",
        "    Dense(128, activation=\"relu\"),\n",
        "    Dense(len(lb.classes_), activation=\"softmax\")\n",
        "    ])\n"
      ],
      "metadata": {
        "id": "SczEfaIPs2yr"
      },
      "execution_count": 65,
      "outputs": []
    },
    {
      "cell_type": "markdown",
      "source": [
        "#### 5.2. Установим значение параметров скорости обучения и общего числа эпох\n"
      ],
      "metadata": {
        "id": "HHFTdcCkg1Wr"
      }
    },
    {
      "cell_type": "code",
      "execution_count": 66,
      "metadata": {
        "id": "pzlpLmGm3CMU"
      },
      "outputs": [],
      "source": [
        "# Ваш код\n",
        "INIT_LR = 0.0005\n",
        "EPOCHS = 200"
      ]
    },
    {
      "cell_type": "markdown",
      "source": [
        "#### 5.3. Компилируем модель:"
      ],
      "metadata": {
        "id": "YaDdd2wphXLv"
      }
    },
    {
      "cell_type": "code",
      "execution_count": 67,
      "metadata": {
        "id": "3mxDQXSc3Cc5"
      },
      "outputs": [],
      "source": [
        "# Ваш код\n",
        "opt = Adam(learning_rate=INIT_LR)\n",
        "\n",
        "model.compile(loss=\"categorical_crossentropy\", optimizer=opt, metrics=[\"accuracy\"])"
      ]
    },
    {
      "cell_type": "markdown",
      "source": [
        "### 6. Обучение модели искусственной нейронной сети:"
      ],
      "metadata": {
        "id": "EaJdxfw4hwjN"
      }
    },
    {
      "cell_type": "markdown",
      "source": [
        "#### 6.1. Добавим колбэки для сохранения лучшей модели по валидационной точности и остановки обучения, в случае, если модель перестала обучаться:"
      ],
      "metadata": {
        "id": "KAzlK96zi0dy"
      }
    },
    {
      "cell_type": "code",
      "execution_count": 68,
      "metadata": {
        "id": "2d6HT9jU3C3E"
      },
      "outputs": [],
      "source": [
        "# Ваш код\n",
        "from keras.callbacks import EarlyStopping, ModelCheckpoint\n",
        "\n",
        "early_stopping = EarlyStopping(patience=5) # Остановка обучения, если\n",
        "                                             # валидационная точность не\n",
        "                                             # улучшается в течение 5 эпох\n",
        "checkpoint = ModelCheckpoint(filepath=\"best_model.h5\",\n",
        "                             monitor=\"val_accuracy\",\n",
        "                             save_best_only=True,\n",
        "                             verbose=0) # Сохранение модели\n",
        "                                         # только при улучшении\n",
        "                                         # валидационной точности"
      ]
    },
    {
      "cell_type": "markdown",
      "source": [
        "#### 6.2. Запустим процесс обучения модели:"
      ],
      "metadata": {
        "id": "IgakM035jDPi"
      }
    },
    {
      "cell_type": "code",
      "execution_count": 69,
      "metadata": {
        "id": "YNloZiKH3DMV",
        "colab": {
          "base_uri": "https://localhost:8080/"
        },
        "outputId": "144593bb-9319-47a9-b20b-d5eb94318dc4"
      },
      "outputs": [
        {
          "output_type": "stream",
          "name": "stdout",
          "text": [
            "Epoch 1/200\n",
            "28/28 [==============================] - 4s 116ms/step - loss: 1.0911 - accuracy: 0.3731 - val_loss: 1.0862 - val_accuracy: 0.3644\n",
            "Epoch 2/200\n",
            "28/28 [==============================] - 3s 102ms/step - loss: 1.0706 - accuracy: 0.4233 - val_loss: 1.0560 - val_accuracy: 0.4654\n",
            "Epoch 3/200\n",
            "28/28 [==============================] - 3s 92ms/step - loss: 1.0253 - accuracy: 0.4797 - val_loss: 1.0066 - val_accuracy: 0.4797\n",
            "Epoch 4/200\n",
            "28/28 [==============================] - 2s 75ms/step - loss: 0.9788 - accuracy: 0.4995 - val_loss: 0.9632 - val_accuracy: 0.4995\n",
            "Epoch 5/200\n",
            "28/28 [==============================] - 2s 76ms/step - loss: 0.9345 - accuracy: 0.5412 - val_loss: 0.9330 - val_accuracy: 0.5357\n",
            "Epoch 6/200\n",
            "28/28 [==============================] - 3s 98ms/step - loss: 0.9062 - accuracy: 0.5606 - val_loss: 0.9360 - val_accuracy: 0.5236\n",
            "Epoch 7/200\n",
            "28/28 [==============================] - 3s 102ms/step - loss: 0.8965 - accuracy: 0.5687 - val_loss: 0.9057 - val_accuracy: 0.5368\n",
            "Epoch 8/200\n",
            "28/28 [==============================] - 2s 76ms/step - loss: 0.8796 - accuracy: 0.5866 - val_loss: 0.8890 - val_accuracy: 0.5609\n",
            "Epoch 9/200\n",
            "28/28 [==============================] - 2s 70ms/step - loss: 0.8623 - accuracy: 0.5826 - val_loss: 0.8901 - val_accuracy: 0.5357\n",
            "Epoch 10/200\n",
            "28/28 [==============================] - 2s 74ms/step - loss: 0.8410 - accuracy: 0.5998 - val_loss: 0.8627 - val_accuracy: 0.5884\n",
            "Epoch 11/200\n",
            "28/28 [==============================] - 2s 70ms/step - loss: 0.8252 - accuracy: 0.6152 - val_loss: 0.8628 - val_accuracy: 0.5785\n",
            "Epoch 12/200\n",
            "28/28 [==============================] - 2s 71ms/step - loss: 0.8081 - accuracy: 0.6228 - val_loss: 0.8501 - val_accuracy: 0.6015\n",
            "Epoch 13/200\n",
            "28/28 [==============================] - 3s 97ms/step - loss: 0.8020 - accuracy: 0.6331 - val_loss: 0.8849 - val_accuracy: 0.5763\n",
            "Epoch 14/200\n",
            "28/28 [==============================] - 3s 98ms/step - loss: 0.7861 - accuracy: 0.6375 - val_loss: 0.8330 - val_accuracy: 0.6070\n",
            "Epoch 15/200\n",
            "28/28 [==============================] - 2s 88ms/step - loss: 0.7811 - accuracy: 0.6346 - val_loss: 0.8317 - val_accuracy: 0.6312\n",
            "Epoch 16/200\n",
            "28/28 [==============================] - 2s 70ms/step - loss: 0.7873 - accuracy: 0.6448 - val_loss: 0.8197 - val_accuracy: 0.6147\n",
            "Epoch 17/200\n",
            "28/28 [==============================] - 2s 70ms/step - loss: 0.7610 - accuracy: 0.6569 - val_loss: 0.8260 - val_accuracy: 0.6125\n",
            "Epoch 18/200\n",
            "28/28 [==============================] - 2s 65ms/step - loss: 0.7448 - accuracy: 0.6734 - val_loss: 0.8244 - val_accuracy: 0.6103\n",
            "Epoch 19/200\n",
            "28/28 [==============================] - 2s 69ms/step - loss: 0.7424 - accuracy: 0.6748 - val_loss: 0.8122 - val_accuracy: 0.6180\n",
            "Epoch 20/200\n",
            "28/28 [==============================] - 2s 81ms/step - loss: 0.7321 - accuracy: 0.6774 - val_loss: 0.8076 - val_accuracy: 0.6389\n",
            "Epoch 21/200\n",
            "28/28 [==============================] - 3s 95ms/step - loss: 0.7289 - accuracy: 0.6781 - val_loss: 0.8230 - val_accuracy: 0.6334\n",
            "Epoch 22/200\n",
            "28/28 [==============================] - 3s 101ms/step - loss: 0.7307 - accuracy: 0.6814 - val_loss: 0.8032 - val_accuracy: 0.6268\n",
            "Epoch 23/200\n",
            "28/28 [==============================] - 2s 69ms/step - loss: 0.7081 - accuracy: 0.6935 - val_loss: 0.7898 - val_accuracy: 0.6520\n",
            "Epoch 24/200\n",
            "28/28 [==============================] - 2s 64ms/step - loss: 0.6997 - accuracy: 0.6950 - val_loss: 0.8383 - val_accuracy: 0.6191\n",
            "Epoch 25/200\n",
            "28/28 [==============================] - 2s 70ms/step - loss: 0.7042 - accuracy: 0.6953 - val_loss: 0.7890 - val_accuracy: 0.6443\n",
            "Epoch 26/200\n",
            "28/28 [==============================] - 2s 72ms/step - loss: 0.6831 - accuracy: 0.7023 - val_loss: 0.7923 - val_accuracy: 0.6257\n",
            "Epoch 27/200\n",
            "28/28 [==============================] - 2s 67ms/step - loss: 0.6803 - accuracy: 0.7140 - val_loss: 0.7943 - val_accuracy: 0.6378\n",
            "Epoch 28/200\n",
            "28/28 [==============================] - 3s 95ms/step - loss: 0.6878 - accuracy: 0.7030 - val_loss: 0.7927 - val_accuracy: 0.6443\n",
            "Epoch 29/200\n",
            "28/28 [==============================] - 3s 109ms/step - loss: 0.6698 - accuracy: 0.7104 - val_loss: 0.7886 - val_accuracy: 0.6422\n",
            "Epoch 30/200\n",
            "28/28 [==============================] - 3s 107ms/step - loss: 0.6660 - accuracy: 0.7140 - val_loss: 0.7819 - val_accuracy: 0.6476\n",
            "Epoch 31/200\n",
            "28/28 [==============================] - 3s 92ms/step - loss: 0.6439 - accuracy: 0.7301 - val_loss: 0.8068 - val_accuracy: 0.6202\n",
            "Epoch 32/200\n",
            "28/28 [==============================] - 2s 69ms/step - loss: 0.6437 - accuracy: 0.7323 - val_loss: 0.7789 - val_accuracy: 0.6432\n",
            "Epoch 33/200\n",
            "28/28 [==============================] - 2s 63ms/step - loss: 0.6367 - accuracy: 0.7316 - val_loss: 0.7802 - val_accuracy: 0.6422\n",
            "Epoch 34/200\n",
            "28/28 [==============================] - 2s 68ms/step - loss: 0.6410 - accuracy: 0.7279 - val_loss: 0.7871 - val_accuracy: 0.6465\n",
            "Epoch 35/200\n",
            "28/28 [==============================] - 2s 66ms/step - loss: 0.6464 - accuracy: 0.7170 - val_loss: 0.7825 - val_accuracy: 0.6400\n",
            "Epoch 36/200\n",
            "28/28 [==============================] - 2s 70ms/step - loss: 0.6260 - accuracy: 0.7290 - val_loss: 0.7914 - val_accuracy: 0.6345\n",
            "Epoch 37/200\n",
            "28/28 [==============================] - 2s 90ms/step - loss: 0.6175 - accuracy: 0.7430 - val_loss: 0.7884 - val_accuracy: 0.6443\n"
          ]
        }
      ],
      "source": [
        "# Ваш код\n",
        "H = model.fit(X_train, Y_train,\n",
        "              validation_data=(X_val, Y_val),\n",
        "              epochs=EPOCHS,\n",
        "              batch_size=100,\n",
        "              callbacks=[early_stopping, checkpoint])"
      ]
    },
    {
      "cell_type": "markdown",
      "source": [
        "#### 6.3. Загружаем лучшую модель:"
      ],
      "metadata": {
        "id": "-dESH383noKz"
      }
    },
    {
      "cell_type": "code",
      "execution_count": 70,
      "metadata": {
        "id": "_ZOMBkJk3Dgk"
      },
      "outputs": [],
      "source": [
        "# Ваш код\n",
        "from keras.models import load_model\n",
        "\n",
        "model = load_model(\"/content/best_model.h5\")"
      ]
    },
    {
      "cell_type": "markdown",
      "source": [
        "### 7. Оценка точности:"
      ],
      "metadata": {
        "id": "CLv-TknOoQ8l"
      }
    },
    {
      "cell_type": "markdown",
      "source": [
        "#### 7.1. Выведем отчет классификации"
      ],
      "metadata": {
        "id": "J16c8i49o2Kq"
      }
    },
    {
      "cell_type": "code",
      "execution_count": 71,
      "metadata": {
        "id": "cqmQz4mO3D5s",
        "colab": {
          "base_uri": "https://localhost:8080/"
        },
        "outputId": "341f6977-b4d7-446b-958a-d5765b7f06f1"
      },
      "outputs": [
        {
          "output_type": "stream",
          "name": "stdout",
          "text": [
            "29/29 [==============================] - 0s 9ms/step\n",
            "              precision    recall  f1-score   support\n",
            "\n",
            "     cavallo       0.61      0.56      0.58       279\n",
            "    elefante       0.55      0.60      0.58       299\n",
            "       ragno       0.78      0.78      0.78       333\n",
            "\n",
            "    accuracy                           0.65       911\n",
            "   macro avg       0.65      0.64      0.65       911\n",
            "weighted avg       0.65      0.65      0.65       911\n",
            "\n"
          ]
        }
      ],
      "source": [
        "# Ваш код\n",
        "predictions = model.predict(X_val, batch_size=32)\n",
        "\n",
        "print(classification_report(Y_val.argmax(axis=1),\n",
        "\tpredictions.argmax(axis=1), target_names=lb.classes_))"
      ]
    },
    {
      "cell_type": "markdown",
      "source": [
        "#### 7.2. Выведем матрицу ошибок"
      ],
      "metadata": {
        "id": "YwbFnynjpKYS"
      }
    },
    {
      "cell_type": "code",
      "execution_count": 72,
      "metadata": {
        "id": "77_vkdSk3EOd",
        "colab": {
          "base_uri": "https://localhost:8080/",
          "height": 447
        },
        "outputId": "62edbb5e-02e6-4550-ef61-40cfbc6f8862"
      },
      "outputs": [
        {
          "output_type": "stream",
          "name": "stdout",
          "text": [
            "29/29 [==============================] - 0s 9ms/step\n"
          ]
        },
        {
          "output_type": "display_data",
          "data": {
            "text/plain": [
              "<Figure size 640x480 with 2 Axes>"
            ],
            "image/png": "[encoded data removed]"
          },
          "metadata": {}
        }
      ],
      "source": [
        "# Ваш код\n",
        "from sklearn.metrics import confusion_matrix\n",
        "import seaborn as sns\n",
        "\n",
        "# Получим прогнозы по валидационным даннным\n",
        "Y_pred = model.predict(X_val, batch_size=32)\n",
        "\n",
        "# Преобразуем вероятности в метки классов\n",
        "Y_pred = Y_pred.argmax(axis=1)\n",
        "Y_val = Y_val.argmax(axis=1)\n",
        "\n",
        "# Вычисляем матрицу ошибок\n",
        "conf_mat = confusion_matrix(Y_val, Y_pred)\n",
        "\n",
        "# Визуализируем матрицу ошибок\n",
        "sns.heatmap(conf_mat, annot=True, fmt=\"d\", cmap=\"YlGnBu\")\n",
        "plt.show()"
      ]
    },
    {
      "cell_type": "markdown",
      "source": [
        "#### 7.3. Отобразим график обучения"
      ],
      "metadata": {
        "id": "oqoaYCciugwi"
      }
    },
    {
      "cell_type": "code",
      "execution_count": 79,
      "metadata": {
        "id": "ALa4XomM3EmL",
        "colab": {
          "base_uri": "https://localhost:8080/",
          "height": 477
        },
        "outputId": "524e5f37-af05-45c7-d9c2-9b5de9ba1a70"
      },
      "outputs": [
        {
          "output_type": "display_data",
          "data": {
            "text/plain": [
              "<Figure size 640x480 with 1 Axes>"
            ],
            "image/png": "[encoded data removed]"
          },
          "metadata": {}
        }
      ],
      "source": [
        "# Ваш код\n",
        "N = np.arange(0, 37)\n",
        "plt.style.use(\"ggplot\")\n",
        "plt.figure()\n",
        "plt.plot(N, H.history[\"loss\"], label=\"train_loss\")\n",
        "plt.plot(N, H.history[\"val_loss\"], label=\"val_loss\")\n",
        "plt.plot(N, H.history[\"accuracy\"], label=\"train_acc\")\n",
        "plt.plot(N, H.history[\"val_accuracy\"], label=\"val_acc\")\n",
        "plt.title(\"Training Loss and Accuracy (Simple NN)\")\n",
        "plt.xlabel(\"Epoch #\")\n",
        "plt.ylabel(\"Loss/Accuracy\")\n",
        "plt.legend()\n",
        "plt.savefig('plot.png')"
      ]
    },
    {
      "cell_type": "markdown",
      "source": [
        "### 8. Сохранение модели и меток классов:"
      ],
      "metadata": {
        "id": "RZfpw-xQu3Q8"
      }
    },
    {
      "cell_type": "code",
      "execution_count": 84,
      "metadata": {
        "id": "mGlt9K8N3E7D"
      },
      "outputs": [],
      "source": [
        "# Ваш код\n",
        "def save_model_and_labels(model, lb, model_path = \"model.h5\", labels_path = \"label_bin\"):\n",
        "    \"\"\"\n",
        "    Сохраняет модель машинного обучения и метки классов в бинарном формате на диск.\n",
        "\n",
        "    Args:\n",
        "        model: Модель машинного обучения.\n",
        "        lb: Метки классов.\n",
        "        model_path: Путь к файлу модели.\n",
        "        labels_path: Путь к файлу меток.\n",
        "\n",
        "    Returns:\n",
        "        None.\n",
        "    \"\"\"\n",
        "\n",
        "    # Сохранение модели\n",
        "    model.save(model_path, save_format=\"h5\")\n",
        "\n",
        "    # Сохранение меток\n",
        "    with open(labels_path, \"wb\") as f:\n",
        "        f.write(pickle.dumps(lb))"
      ]
    },
    {
      "cell_type": "code",
      "source": [
        "model_path = \"model.h5\"\n",
        "labels_path = \"label_bin\""
      ],
      "metadata": {
        "id": "17_0DnO_1nzl"
      },
      "execution_count": 101,
      "outputs": []
    },
    {
      "cell_type": "code",
      "source": [
        "save_model_and_labels(model, lb, model_path, labels_path)"
      ],
      "metadata": {
        "id": "CgcEcYM_1o3H"
      },
      "execution_count": 86,
      "outputs": []
    },
    {
      "cell_type": "markdown",
      "metadata": {
        "id": "YjyCuhw1aeti"
      },
      "source": [
        "### 9. Проверка обученной модели пользовательскими данными:"
      ]
    },
    {
      "cell_type": "markdown",
      "source": [
        "#### 9.1. Импортируем необходимые библиотеки"
      ],
      "metadata": {
        "id": "yfUIW800wuyu"
      }
    },
    {
      "cell_type": "code",
      "execution_count": 87,
      "metadata": {
        "id": "wk1qihbS3FR1"
      },
      "outputs": [],
      "source": [
        "# Ваш код\n",
        "from keras.models import load_model\n",
        "import gradio as gr  # Библиотека для создания веб-интерфейсов\n",
        "import pickle\n",
        "import cv2"
      ]
    },
    {
      "cell_type": "markdown",
      "source": [
        "#### 9.2. Реализуем функцию для предобработки входных данных в той же последовательности, что и при формировании обучающей выборки:"
      ],
      "metadata": {
        "id": "PM2dadCBwzES"
      }
    },
    {
      "cell_type": "code",
      "execution_count": 98,
      "metadata": {
        "id": "P4KLc85A3FkU"
      },
      "outputs": [],
      "source": [
        "# Ваш код\n",
        "def preprocess_image(img, compression_size = 32):\n",
        "\n",
        "    \"\"\"\n",
        "    Функция для изменения размера, \"выравнивания\" и масштабирования изображения.\n",
        "\n",
        "    Args:\n",
        "    img: Изображение.\n",
        "\n",
        "    Returns:\n",
        "    Предобработанное изображение.\n",
        "    \"\"\"\n",
        "\n",
        "    image = img.copy()  # Создаем копию изображения\n",
        "    # Изменяем размер изображения до compression_size x compression_size пикселей\n",
        "    image = cv2.resize(image, (compression_size, compression_size))\n",
        "    # Преобразуем изображение в одномерный массив (вектор)\n",
        "    image = image.flatten()\n",
        "    # Масштабируем значения пикселей к диапазону [0, 1]\n",
        "    image = image.astype(\"float\") / 255.0\n",
        "    # Преобразуем массив в формат, совместимый с нашей моделью Keras\n",
        "    image = image.reshape((1, image.shape[0]))\n",
        "\n",
        "    return image\n"
      ]
    },
    {
      "cell_type": "markdown",
      "source": [
        "#### 9.3. Определим функцию для осуществления прогноза по загруженной модели:"
      ],
      "metadata": {
        "id": "UXPI1dAIxvPz"
      }
    },
    {
      "cell_type": "code",
      "execution_count": 102,
      "metadata": {
        "id": "LO4Ty_t0anmv"
      },
      "outputs": [],
      "source": [
        "# Ваш код\n",
        "def predict_image(img, preprocess_func = preprocess_image, model_path = \"/content/drive/MyDrive/Задание_2/dataset/model.h5\", label_path = \"/content/drive/MyDrive/Задание_2/dataset/label_bin\"):\n",
        "\n",
        "    \"\"\"\n",
        "    Функция для выполнения предсказания класса, возвращает\n",
        "    словарь с вероятностями для каждого класса.\n",
        "\n",
        "    Args:\n",
        "    img: Изображение.\n",
        "    preprocess_funk: Функция для предобработки изображения.\n",
        "    model_path: Путь к файлу модели.\n",
        "    label_path: Путь к файлу с метками.\n",
        "\n",
        "    Returns:\n",
        "    Словарь с метками и вероятностями для каждого класса.\n",
        "    \"\"\"\n",
        "\n",
        "    # Загружаем модель и метки\n",
        "    model = load_model(model_path)  # Загрузка модели Keras\n",
        "    lb = pickle.loads(open(label_path, \"rb\").read())  # Загрузка словаря с метками\n",
        "\n",
        "    # Делаем предсказание на изображении\n",
        "    image = preprocess_func(img.copy())  # Предобработка изображения\n",
        "    preds = model.predict(image).flatten()  # Выполнение предсказания\n",
        "\n",
        "    # Возвращаем словарь с метками и вероятностями для каждого класса\n",
        "    confidences = {lb.classes_[i]: float(preds[i]) for i in range(len(preds))}\n",
        "\n",
        "    return confidences"
      ]
    },
    {
      "cell_type": "markdown",
      "source": [
        "### 10. Визуализируем интерфейс и произведем классификацию:"
      ],
      "metadata": {
        "id": "acXaOZ_z3dDq"
      }
    },
    {
      "cell_type": "code",
      "execution_count": null,
      "metadata": {
        "id": "5wW8xYEB3dDr",
        "colab": {
          "base_uri": "https://localhost:8080/",
          "height": 643
        },
        "outputId": "78cfdad5-ceba-46ba-fe89-8096895e0a6d"
      },
      "outputs": [
        {
          "output_type": "stream",
          "name": "stdout",
          "text": [
            "Colab notebook detected. This cell will run indefinitely so that you can see errors and logs. To turn off, set debug=False in launch().\n",
            "Running on public URL: https://3105dea0d42614bf0b.gradio.live\n",
            "\n",
            "This share link expires in 72 hours. For free permanent hosting and GPU upgrades, run `gradio deploy` from Terminal to deploy to Spaces (https://huggingface.co/spaces)\n"
          ]
        },
        {
          "output_type": "display_data",
          "data": {
            "text/plain": [
              "<IPython.core.display.HTML object>"
            ],
            "text/html": [
              "<div><iframe src=\"https://3105dea0d42614bf0b.gradio.live\" width=\"100%\" height=\"500\" allow=\"autoplay; camera; microphone; clipboard-read; clipboard-write;\" frameborder=\"0\" allowfullscreen></iframe></div>"
            ]
          },
          "metadata": {}
        },
        {
          "output_type": "stream",
          "name": "stdout",
          "text": [
            "1/1 [==============================] - 0s 68ms/step\n",
            "1/1 [==============================] - 0s 100ms/step\n",
            "1/1 [==============================] - 0s 93ms/step\n"
          ]
        }
      ],
      "source": [
        "# Ваш код\n",
        "interface = gr.Interface(\n",
        "  fn=predict_image,  # Функция, которая будет вызываться при загрузке изображения\n",
        "  inputs=gr.Image(label=\"Загрузите изображение\"),  # Входные данные: изображение\n",
        "  outputs= gr.Label(num_top_classes=len(lb.classes_)), # Выходные данные: топ-N классов с наибольшей вероятностью\n",
        "  examples=[\"/content/drive/MyDrive/Задание_2/dataset/test/cavallo/OIP-_Cwny6ZT22zD0qVv0D3RBQHaF7.jpeg\",\n",
        "            \"/content/drive/MyDrive/Задание_2/dataset/test/ragno/e830b90f20f5043ed1584d05fb1d4e9fe777ead218ac104497f5c97ca5ecb5b1_640.jpg\",\n",
        "            \"/content/drive/MyDrive/Задание_2/dataset/test/elefante/e83db30d2cfd033ed1584d05fb1d4e9fe777ead218ac104497f5c978a4efb4bb_640.jpg\"])\n",
        "\n",
        "# Запускаем интерфейс\n",
        "interface.launch(debug=True, share=True)"
      ]
    }
  ]
}