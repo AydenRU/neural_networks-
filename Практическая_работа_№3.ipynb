{
  "nbformat": 4,
  "nbformat_minor": 0,
  "metadata": {
    "colab": {
      "provenance": [],
      "collapsed_sections": [
        "cY-IVs-11lcN",
        "2hJWx7inecOh",
        "TBAfQRXTewQp",
        "FiYiEH3N1qH4"
      ],
      "include_colab_link": true
    },
    "kernelspec": {
      "name": "python3",
      "display_name": "Python 3"
    },
    "language_info": {
      "name": "python"
    }
  },
  "cells": [
    {
      "cell_type": "markdown",
      "metadata": {
        "id": "view-in-github",
        "colab_type": "text"
      },
      "source": [
        "<a href=\"https://colab.research.google.com/github/AydenRU/neural_networks-/blob/main/%D0%9F%D1%80%D0%B0%D0%BA%D1%82%D0%B8%D1%87%D0%B5%D1%81%D0%BA%D0%B0%D1%8F_%D1%80%D0%B0%D0%B1%D0%BE%D1%82%D0%B0_%E2%84%963.ipynb\" target=\"_parent\"><img src=\"https://colab.research.google.com/assets/colab-badge.svg\" alt=\"Open In Colab\"/></a>"
      ]
    },
    {
      "cell_type": "markdown",
      "source": [
        "# Задание №1. Использование глубокой сверточной нейронной сети для классификации предметов одежды на примере датасета Fashion MNIST\n"
      ],
      "metadata": {
        "id": "cY-IVs-11lcN"
      }
    },
    {
      "cell_type": "markdown",
      "source": [
        "**В качестве интерфейса для работы с моделями используйте [Gradio](https://colab.research.google.com/drive/18EM8mrpURStkmbxWjZybWbWh23Si5b4A#scrollTo=-uu_VR8H2K4h)**"
      ],
      "metadata": {
        "id": "tl-m4deYZmbh"
      }
    },
    {
      "cell_type": "markdown",
      "source": [
        "[Техническая документация по датасету](https://www.kaggle.com/datasets/zalando-research/fashionmnist)"
      ],
      "metadata": {
        "id": "20Vy9kORZplL"
      }
    },
    {
      "cell_type": "markdown",
      "source": [
        "## 1.1. Устанавливаем необходимые зависимости"
      ],
      "metadata": {
        "id": "btqKiaPYZ88p"
      }
    },
    {
      "cell_type": "code",
      "execution_count": 83,
      "metadata": {
        "id": "vhuZudFB1Y89"
      },
      "outputs": [],
      "source": [
        "from keras.datasets import fashion_mnist # импорт исходного датасета\n",
        "from keras.models import Sequential\n",
        "\n",
        "from keras.layers import Conv2D, MaxPooling2D, Dense, Flatten\n",
        "\n",
        "from keras.optimizers import Adam, SGD\n",
        "import matplotlib.pyplot as plt\n",
        "import numpy as np"
      ]
    },
    {
      "cell_type": "markdown",
      "source": [
        "## 1.2. Разделяем данные на обучающую и тестовую выборку"
      ],
      "metadata": {
        "id": "VGDdR_nnaWJx"
      }
    },
    {
      "cell_type": "code",
      "source": [
        "(trainX, trainy), (testX, testy) = fashion_mnist.load_data()"
      ],
      "metadata": {
        "id": "BOi1_2reaay_"
      },
      "execution_count": 69,
      "outputs": []
    },
    {
      "cell_type": "markdown",
      "source": [
        "## 1.3. Визуализируем часть данных из датасета"
      ],
      "metadata": {
        "id": "zqsyByyEaa8F"
      }
    },
    {
      "cell_type": "code",
      "source": [
        "for i in range(1, 10):\n",
        "    plt.subplot(3, 3, i)\n",
        "    plt.imshow(trainX[i], cmap=plt.get_cmap('gray'))\n",
        "\n",
        "plt.show()"
      ],
      "metadata": {
        "colab": {
          "base_uri": "https://localhost:8080/",
          "height": 433
        },
        "id": "FhPYAoXCbHUC",
        "outputId": "8971ead5-27bc-4dd6-98aa-7ff2752ff144"
      },
      "execution_count": 64,
      "outputs": [
        {
          "output_type": "display_data",
          "data": {
            "text/plain": [
              "<Figure size 640x480 with 9 Axes>"
            ],
            "image/png": "[encoded data removed]"
          },
          "metadata": {}
        }
      ]
    },
    {
      "cell_type": "markdown",
      "source": [
        "## 1.4. Создаём архитектуру нейронной сети и компилируем модель"
      ],
      "metadata": {
        "id": "2vi6xrt3bHbU"
      }
    },
    {
      "cell_type": "code",
      "source": [
        "# Ваш код\n",
        "x_train = trainX / 255\n",
        "x_test = testX / 255\n",
        "\n",
        "y_train = keras.utils.to_categorical(trainy, 10)\n",
        "y_test = keras.utils.to_categorical(testy, 10)\n",
        "\n",
        "x_train = np.expand_dims(x_train, axis=3)\n",
        "x_test = np.expand_dims(x_test, axis=3)\n",
        "\n",
        "print( x_train.shape )"
      ],
      "metadata": {
        "id": "f14ixzoFbHiF",
        "colab": {
          "base_uri": "https://localhost:8080/"
        },
        "outputId": "6ac8fd28-c0d5-4d7c-a6af-cee8e7e25fb8"
      },
      "execution_count": 90,
      "outputs": [
        {
          "output_type": "stream",
          "name": "stdout",
          "text": [
            "(60000, 28, 28, 1)\n"
          ]
        }
      ]
    },
    {
      "cell_type": "code",
      "source": [
        "model = keras.Sequential([\n",
        "    Conv2D(32, (3,3), padding='same', activation='relu', input_shape=(28, 28, 1)),\n",
        "    MaxPooling2D((2, 2), strides=2),\n",
        "    Conv2D(64, (3,3), padding='same', activation='relu'),\n",
        "    MaxPooling2D((2, 2), strides=2),\n",
        "    Flatten(),\n",
        "    Dense(128, activation='relu'),\n",
        "    Dense(10,  activation='softmax')\n",
        "])"
      ],
      "metadata": {
        "id": "tLbAqQRRH3xB"
      },
      "execution_count": 95,
      "outputs": []
    },
    {
      "cell_type": "code",
      "source": [
        "model.summary()"
      ],
      "metadata": {
        "colab": {
          "base_uri": "https://localhost:8080/"
        },
        "id": "q6W9hC2iHLod",
        "outputId": "207aa7e3-f073-4eed-bc37-d29bbc3b666d"
      },
      "execution_count": 96,
      "outputs": [
        {
          "output_type": "stream",
          "name": "stdout",
          "text": [
            "Model: \"sequential_8\"\n",
            "_________________________________________________________________\n",
            " Layer (type)                Output Shape              Param #   \n",
            "=================================================================\n",
            " conv2d_4 (Conv2D)           (None, 28, 28, 32)        320       \n",
            "                                                                 \n",
            " max_pooling2d (MaxPooling2  (None, 14, 14, 32)        0         \n",
            " D)                                                              \n",
            "                                                                 \n",
            " conv2d_5 (Conv2D)           (None, 14, 14, 64)        18496     \n",
            "                                                                 \n",
            " max_pooling2d_1 (MaxPoolin  (None, 7, 7, 64)          0         \n",
            " g2D)                                                            \n",
            "                                                                 \n",
            " flatten_6 (Flatten)         (None, 3136)              0         \n",
            "                                                                 \n",
            " dense_18 (Dense)            (None, 128)               401536    \n",
            "                                                                 \n",
            " dense_19 (Dense)            (None, 10)                1290      \n",
            "                                                                 \n",
            "=================================================================\n",
            "Total params: 421642 (1.61 MB)\n",
            "Trainable params: 421642 (1.61 MB)\n",
            "Non-trainable params: 0 (0.00 Byte)\n",
            "_________________________________________________________________\n"
          ]
        }
      ]
    },
    {
      "cell_type": "code",
      "source": [
        "EPOCH = 5\n",
        "\n",
        "model.compile(optimizer='adam',\n",
        "             loss='categorical_crossentropy',\n",
        "             metrics=['accuracy'])"
      ],
      "metadata": {
        "id": "wPm9T3ucHNP1"
      },
      "execution_count": 99,
      "outputs": []
    },
    {
      "cell_type": "markdown",
      "source": [
        "## 1.5. Обучаем модель"
      ],
      "metadata": {
        "id": "iaWXTPf_bpdc"
      }
    },
    {
      "cell_type": "code",
      "source": [
        "# Ваш код\n",
        "his = model.fit(x_train, y_train, batch_size=32, epochs=EPOCH, validation_split=0.2)"
      ],
      "metadata": {
        "id": "uFaRiZGKcB-n",
        "colab": {
          "base_uri": "https://localhost:8080/"
        },
        "outputId": "9b1dbddc-3fb5-4609-ed35-f87a051f73a7"
      },
      "execution_count": 100,
      "outputs": [
        {
          "output_type": "stream",
          "name": "stdout",
          "text": [
            "Epoch 1/5\n",
            "1500/1500 [==============================] - 79s 52ms/step - loss: 0.4309 - accuracy: 0.8457 - val_loss: 0.3132 - val_accuracy: 0.8884\n",
            "Epoch 2/5\n",
            "1500/1500 [==============================] - 71s 47ms/step - loss: 0.2846 - accuracy: 0.8983 - val_loss: 0.2750 - val_accuracy: 0.9015\n",
            "Epoch 3/5\n",
            "1500/1500 [==============================] - 70s 47ms/step - loss: 0.2360 - accuracy: 0.9131 - val_loss: 0.2395 - val_accuracy: 0.9097\n",
            "Epoch 4/5\n",
            "1500/1500 [==============================] - 68s 45ms/step - loss: 0.2027 - accuracy: 0.9267 - val_loss: 0.2433 - val_accuracy: 0.9129\n",
            "Epoch 5/5\n",
            "1500/1500 [==============================] - 67s 44ms/step - loss: 0.1764 - accuracy: 0.9347 - val_loss: 0.2528 - val_accuracy: 0.9144\n"
          ]
        }
      ]
    },
    {
      "cell_type": "code",
      "source": [
        "model.evaluate(x_test, y_test)"
      ],
      "metadata": {
        "colab": {
          "base_uri": "https://localhost:8080/"
        },
        "id": "NGl5nzSyZh3t",
        "outputId": "edeccc36-2050-40a4-d5b0-b25d8df490cb"
      },
      "execution_count": 33,
      "outputs": [
        {
          "output_type": "stream",
          "name": "stdout",
          "text": [
            "313/313 [==============================] - 2s 6ms/step - loss: 0.3946 - accuracy: 0.8561\n"
          ]
        },
        {
          "output_type": "execute_result",
          "data": {
            "text/plain": [
              "[0.3946155905723572, 0.8561000227928162]"
            ]
          },
          "metadata": {},
          "execution_count": 33
        }
      ]
    },
    {
      "cell_type": "markdown",
      "source": [
        "## 1.6. Анализируем обученную модель. Строим график (графики) обучения"
      ],
      "metadata": {
        "id": "tKqwhetycC7b"
      }
    },
    {
      "cell_type": "code",
      "source": [
        "# Ваш код\n",
        "N = np.arange(0, EPOCH)\n",
        "plt.style.use(\"ggplot\")\n",
        "plt.figure()\n",
        "plt.plot(N, his.history[\"loss\"], label=\"train_loss\")\n",
        "plt.plot(N, his.history[\"val_loss\"], label=\"val_loss\")\n",
        "plt.plot(N, his.history[\"accuracy\"], label=\"train_accuracy\")\n",
        "plt.plot(N, his.history[\"val_accuracy\"], label=\"val_accuracy\")\n",
        "plt.title(\"Training Loss and Accuracy (Simple NN)\")\n",
        "plt.xlabel(\"Epoch #\")\n",
        "plt.ylabel(\"Loss/Accuracy\")\n",
        "plt.legend()"
      ],
      "metadata": {
        "id": "H2CKO7-vcNhk",
        "colab": {
          "base_uri": "https://localhost:8080/",
          "height": 494
        },
        "outputId": "24143cd2-2bb2-470e-c2a4-16a2c0d7ab0e"
      },
      "execution_count": 102,
      "outputs": [
        {
          "output_type": "execute_result",
          "data": {
            "text/plain": [
              "<matplotlib.legend.Legend at 0x7d8946ad5780>"
            ]
          },
          "metadata": {},
          "execution_count": 102
        },
        {
          "output_type": "display_data",
          "data": {
            "text/plain": [
              "<Figure size 640x480 with 1 Axes>"
            ],
            "image/png": "[encoded data removed]"
          },
          "metadata": {}
        }
      ]
    },
    {
      "cell_type": "code",
      "source": [
        "plt.imshow(testX[34], cmap=plt.get_cmap('gray'))\n",
        "plt.show()"
      ],
      "metadata": {
        "colab": {
          "base_uri": "https://localhost:8080/",
          "height": 430
        },
        "id": "CwExpgChg1RW",
        "outputId": "e1419765-1318-4e99-defd-c75d93ddc582"
      },
      "execution_count": 105,
      "outputs": [
        {
          "output_type": "display_data",
          "data": {
            "text/plain": [
              "<Figure size 640x480 with 1 Axes>"
            ],
            "image/png": "[encoded data removed]"
          },
          "metadata": {}
        }
      ]
    },
    {
      "cell_type": "markdown",
      "source": [
        "## 1.7. Загружаем свои изображения. С помощью функции predict() получаем предсказание нейронной сети"
      ],
      "metadata": {
        "id": "ov2Y-9lNbHoP"
      }
    },
    {
      "cell_type": "markdown",
      "source": [
        "\n",
        "\n",
        "> Требуется получить предсказания минимум по 5 изображениям, каждое из которых относится к разному классу. Не забудьте добавить метки к каждому классу (для этого можно просто создать список строк, каждая из которых будет соответствовать классу с определенным индексом см. [тех.док.](https://www.kaggle.com/datasets/zalando-research/fashionmnist)). Процент уверенности нейронной сети в своём предсказании выводить обязательно.\n",
        "\n"
      ],
      "metadata": {
        "id": "KaPVxLTQdK8E"
      }
    },
    {
      "cell_type": "code",
      "source": [
        "# Ваш код\n",
        "import cv2\n",
        "from google.colab.patches import cv2_imshow\n",
        "\n",
        "# Добавляем интерфейс для загрузки изображений напрямую из блокнота\n",
        "from google.colab import files\n",
        "uploaded = files.upload()\n",
        "\n",
        "# загружаем входное изображение, меняем его размер на необходимый и выводим его\n",
        "\n",
        "image = cv2.imread(list(uploaded.keys())[0], cv2.IMREAD_GRAYSCALE) # Преобразование изображения в оттенки серого при считывании\n",
        "image = cv2.resize(image, (28, 28)) # Изменение разрешения изображения\n",
        "image = cv2.bitwise_not(image) # Инверсия цветов (если в оригинале цифра написана черным цветом на белом фоне)\n",
        "orig = image\n",
        "image = image.reshape(-1, 28, 28, 1) # Приводим изображение из вида (28,28) в вид (1, 28, 28, 1)\n",
        "\n",
        "cv2_imshow(orig)"
      ],
      "metadata": {
        "id": "oMCskxEYepNC",
        "colab": {
          "base_uri": "https://localhost:8080/",
          "height": 101
        },
        "outputId": "dd13ffc9-3249-4936-aea8-5eb1d1027a49"
      },
      "execution_count": 111,
      "outputs": [
        {
          "output_type": "display_data",
          "data": {
            "text/plain": [
              "<IPython.core.display.HTML object>"
            ],
            "text/html": [
              "\n",
              "     <input type=\"file\" id=\"files-7066f231-cfb5-4eb8-aafa-9e18cfbfa2e0\" name=\"files[]\" multiple disabled\n",
              "        style=\"border:none\" />\n",
              "     <output id=\"result-7066f231-cfb5-4eb8-aafa-9e18cfbfa2e0\">\n",
              "      Upload widget is only available when the cell has been executed in the\n",
              "      current browser session. Please rerun this cell to enable.\n",
              "      </output>\n",
              "      <script>// Copyright 2017 Google LLC\n",
              "//\n",
              "// Licensed under the Apache License, Version 2.0 (the \"License\");\n",
              "// you may not use this file except in compliance with the License.\n",
              "// You may obtain a copy of the License at\n",
              "//\n",
              "//      http://www.apache.org/licenses/LICENSE-2.0\n",
              "//\n",
              "// Unless required by applicable law or agreed to in writing, software\n",
              "// distributed under the License is distributed on an \"AS IS\" BASIS,\n",
              "// WITHOUT WARRANTIES OR CONDITIONS OF ANY KIND, either express or implied.\n",
              "// See the License for the specific language governing permissions and\n",
              "// limitations under the License.\n",
              "\n",
              "/**\n",
              " * @fileoverview Helpers for google.colab Python module.\n",
              " */\n",
              "(function(scope) {\n",
              "function span(text, styleAttributes = {}) {\n",
              "  const element = document.createElement('span');\n",
              "  element.textContent = text;\n",
              "  for (const key of Object.keys(styleAttributes)) {\n",
              "    element.style[key] = styleAttributes[key];\n",
              "  }\n",
              "  return element;\n",
              "}\n",
              "\n",
              "// Max number of bytes which will be uploaded at a time.\n",
              "const MAX_PAYLOAD_SIZE = 100 * 1024;\n",
              "\n",
              "function _uploadFiles(inputId, outputId) {\n",
              "  const steps = uploadFilesStep(inputId, outputId);\n",
              "  const outputElement = document.getElementById(outputId);\n",
              "  // Cache steps on the outputElement to make it available for the next call\n",
              "  // to uploadFilesContinue from Python.\n",
              "  outputElement.steps = steps;\n",
              "\n",
              "  return _uploadFilesContinue(outputId);\n",
              "}\n",
              "\n",
              "// This is roughly an async generator (not supported in the browser yet),\n",
              "// where there are multiple asynchronous steps and the Python side is going\n",
              "// to poll for completion of each step.\n",
              "// This uses a Promise to block the python side on completion of each step,\n",
              "// then passes the result of the previous step as the input to the next step.\n",
              "function _uploadFilesContinue(outputId) {\n",
              "  const outputElement = document.getElementById(outputId);\n",
              "  const steps = outputElement.steps;\n",
              "\n",
              "  const next = steps.next(outputElement.lastPromiseValue);\n",
              "  return Promise.resolve(next.value.promise).then((value) => {\n",
              "    // Cache the last promise value to make it available to the next\n",
              "    // step of the generator.\n",
              "    outputElement.lastPromiseValue = value;\n",
              "    return next.value.response;\n",
              "  });\n",
              "}\n",
              "\n",
              "/**\n",
              " * Generator function which is called between each async step of the upload\n",
              " * process.\n",
              " * @param {string} inputId Element ID of the input file picker element.\n",
              " * @param {string} outputId Element ID of the output display.\n",
              " * @return {!Iterable<!Object>} Iterable of next steps.\n",
              " */\n",
              "function* uploadFilesStep(inputId, outputId) {\n",
              "  const inputElement = document.getElementById(inputId);\n",
              "  inputElement.disabled = false;\n",
              "\n",
              "  const outputElement = document.getElementById(outputId);\n",
              "  outputElement.innerHTML = '';\n",
              "\n",
              "  const pickedPromise = new Promise((resolve) => {\n",
              "    inputElement.addEventListener('change', (e) => {\n",
              "      resolve(e.target.files);\n",
              "    });\n",
              "  });\n",
              "\n",
              "  const cancel = document.createElement('button');\n",
              "  inputElement.parentElement.appendChild(cancel);\n",
              "  cancel.textContent = 'Cancel upload';\n",
              "  const cancelPromise = new Promise((resolve) => {\n",
              "    cancel.onclick = () => {\n",
              "      resolve(null);\n",
              "    };\n",
              "  });\n",
              "\n",
              "  // Wait for the user to pick the files.\n",
              "  const files = yield {\n",
              "    promise: Promise.race([pickedPromise, cancelPromise]),\n",
              "    response: {\n",
              "      action: 'starting',\n",
              "    }\n",
              "  };\n",
              "\n",
              "  cancel.remove();\n",
              "\n",
              "  // Disable the input element since further picks are not allowed.\n",
              "  inputElement.disabled = true;\n",
              "\n",
              "  if (!files) {\n",
              "    return {\n",
              "      response: {\n",
              "        action: 'complete',\n",
              "      }\n",
              "    };\n",
              "  }\n",
              "\n",
              "  for (const file of files) {\n",
              "    const li = document.createElement('li');\n",
              "    li.append(span(file.name, {fontWeight: 'bold'}));\n",
              "    li.append(span(\n",
              "        `(${file.type || 'n/a'}) - ${file.size} bytes, ` +\n",
              "        `last modified: ${\n",
              "            file.lastModifiedDate ? file.lastModifiedDate.toLocaleDateString() :\n",
              "                                    'n/a'} - `));\n",
              "    const percent = span('0% done');\n",
              "    li.appendChild(percent);\n",
              "\n",
              "    outputElement.appendChild(li);\n",
              "\n",
              "    const fileDataPromise = new Promise((resolve) => {\n",
              "      const reader = new FileReader();\n",
              "      reader.onload = (e) => {\n",
              "        resolve(e.target.result);\n",
              "      };\n",
              "      reader.readAsArrayBuffer(file);\n",
              "    });\n",
              "    // Wait for the data to be ready.\n",
              "    let fileData = yield {\n",
              "      promise: fileDataPromise,\n",
              "      response: {\n",
              "        action: 'continue',\n",
              "      }\n",
              "    };\n",
              "\n",
              "    // Use a chunked sending to avoid message size limits. See b/62115660.\n",
              "    let position = 0;\n",
              "    do {\n",
              "      const length = Math.min(fileData.byteLength - position, MAX_PAYLOAD_SIZE);\n",
              "      const chunk = new Uint8Array(fileData, position, length);\n",
              "      position += length;\n",
              "\n",
              "      const base64 = btoa(String.fromCharCode.apply(null, chunk));\n",
              "      yield {\n",
              "        response: {\n",
              "          action: 'append',\n",
              "          file: file.name,\n",
              "          data: base64,\n",
              "        },\n",
              "      };\n",
              "\n",
              "      let percentDone = fileData.byteLength === 0 ?\n",
              "          100 :\n",
              "          Math.round((position / fileData.byteLength) * 100);\n",
              "      percent.textContent = `${percentDone}% done`;\n",
              "\n",
              "    } while (position < fileData.byteLength);\n",
              "  }\n",
              "\n",
              "  // All done.\n",
              "  yield {\n",
              "    response: {\n",
              "      action: 'complete',\n",
              "    }\n",
              "  };\n",
              "}\n",
              "\n",
              "scope.google = scope.google || {};\n",
              "scope.google.colab = scope.google.colab || {};\n",
              "scope.google.colab._files = {\n",
              "  _uploadFiles,\n",
              "  _uploadFilesContinue,\n",
              "};\n",
              "})(self);\n",
              "</script> "
            ]
          },
          "metadata": {}
        },
        {
          "output_type": "stream",
          "name": "stdout",
          "text": [
            "Saving 3.png to 3.png\n"
          ]
        },
        {
          "output_type": "display_data",
          "data": {
            "text/plain": [
              "<PIL.Image.Image image mode=L size=28x28>"
            ],
            "image/png": "[encoded data removed]"
          },
          "metadata": {}
        }
      ]
    },
    {
      "cell_type": "code",
      "source": [
        "preds = model.predict(image)\n",
        "print(preds)"
      ],
      "metadata": {
        "colab": {
          "base_uri": "https://localhost:8080/"
        },
        "id": "x2uPgLqVYfVO",
        "outputId": "f26b48eb-a75d-4005-b899-ade5c6094bb3"
      },
      "execution_count": 112,
      "outputs": [
        {
          "output_type": "stream",
          "name": "stdout",
          "text": [
            "1/1 [==============================] - 0s 21ms/step\n",
            "[[0. 0. 0. 0. 0. 0. 0. 0. 1. 0.]]\n"
          ]
        }
      ]
    },
    {
      "cell_type": "code",
      "source": [
        "i = preds.argmax(axis=1)[0]\n",
        "print(f\"Загружено число: {i}\")"
      ],
      "metadata": {
        "colab": {
          "base_uri": "https://localhost:8080/"
        },
        "id": "avvwT_QeoEkF",
        "outputId": "120a7402-8dc0-4e22-f2c7-00e0835a0327"
      },
      "execution_count": 113,
      "outputs": [
        {
          "output_type": "stream",
          "name": "stdout",
          "text": [
            "Загружено число: 8\n"
          ]
        }
      ]
    },
    {
      "cell_type": "code",
      "source": [
        "!pip install gradio"
      ],
      "metadata": {
        "collapsed": true,
        "id": "7of5c5PNbCZc"
      },
      "execution_count": null,
      "outputs": []
    },
    {
      "cell_type": "markdown",
      "source": [
        "# Задание №2. Использование глубокой сверточной нейронной сети для классификации изображений по своему датасету"
      ],
      "metadata": {
        "id": "2hJWx7inecOh"
      }
    },
    {
      "cell_type": "markdown",
      "source": [
        "\n",
        "## 2.1.  Используя датасет, собранный для предыдущей работы, разработайте и обучите **свою** модель глубокой  **сверточной** нейронной сети для классификации изображений\n",
        "\n",
        "\n",
        "\n",
        "\n",
        "\n"
      ],
      "metadata": {
        "id": "TBAfQRXTewQp"
      }
    },
    {
      "cell_type": "code",
      "source": [
        "# Ваш код\n",
        "from google.colab import drive\n",
        "drive.mount('/content/drive')"
      ],
      "metadata": {
        "id": "2r9DEUG2_hSb",
        "colab": {
          "base_uri": "https://localhost:8080/"
        },
        "outputId": "4aad3a85-2403-4738-b2c7-48ca21c9fbbf"
      },
      "execution_count": 87,
      "outputs": [
        {
          "output_type": "stream",
          "name": "stdout",
          "text": [
            "Mounted at /content/drive\n"
          ]
        }
      ]
    },
    {
      "cell_type": "code",
      "source": [
        "from sklearn.preprocessing import LabelBinarizer\n",
        "from sklearn.model_selection import train_test_split\n",
        "from sklearn.metrics import classification_report\n",
        "from imutils import paths\n",
        "import random\n",
        "import pickle\n",
        "import cv2\n",
        "import os\n",
        "from google.colab.patches import cv2_imshow"
      ],
      "metadata": {
        "id": "piRdzsG-t10V"
      },
      "execution_count": 93,
      "outputs": []
    },
    {
      "cell_type": "code",
      "source": [
        "imagePaths = sorted(list(paths.list_images(\"/content/drive/MyDrive/Задание_2/dataset/train\")))\n",
        "random.shuffle(imagePaths)"
      ],
      "metadata": {
        "id": "qW98ot11pExq"
      },
      "execution_count": 92,
      "outputs": []
    },
    {
      "cell_type": "code",
      "source": [
        "def load_images(imagePaths, compression_size = 32):\n",
        "  data = []\n",
        "  labels = []\n",
        "\n",
        "  for imagePath in imagePaths:\n",
        "    image = cv2.imread(imagePath)\n",
        "    # Изменение разрешения изображения (по умолчанию 32х32х3 -> 3072,)\n",
        "    image = cv2.resize(image, (compression_size, compression_size)).flatten()\n",
        "    data.append(image)\n",
        "\n",
        "    # Извлечение метки класса из пути к изображению\n",
        "    label = imagePath.split(os.path.sep)[-2]\n",
        "\n",
        "    # Добавление метки в список\n",
        "    labels.append(label)\n",
        "\n",
        "  return data, labels"
      ],
      "metadata": {
        "id": "4SUOI7v9uNod"
      },
      "execution_count": null,
      "outputs": []
    },
    {
      "cell_type": "markdown",
      "source": [
        "## 2.2.   Ознакомьтесь с современными архитектурами сверточных нейронных сетей: [см. ссылку](https://medium.com/aiguys/how-cnn-architectures-evolved-c53d3819fef8). На основе рассмотренных архитектур, реализуйте (частично повторяя основные паттерны проектирования) и обучите модель сверточной нейронной сети. Укажите архитектуру, которой Вы \"вдохновились\""
      ],
      "metadata": {
        "id": "tzFK3GXZ_hjw"
      }
    },
    {
      "cell_type": "code",
      "source": [
        "# Ваш код"
      ],
      "metadata": {
        "id": "Wlpj-RZm_jyf"
      },
      "execution_count": null,
      "outputs": []
    },
    {
      "cell_type": "markdown",
      "source": [
        "## 2.3. Сохраните полученные модели"
      ],
      "metadata": {
        "id": "C102cowZ_kFP"
      }
    },
    {
      "cell_type": "code",
      "source": [
        "# Ваш код"
      ],
      "metadata": {
        "id": "xiAyxCnv_l5r"
      },
      "execution_count": null,
      "outputs": []
    },
    {
      "cell_type": "markdown",
      "source": [
        "## 2.4. Загрузите обученную модель из прошлой практической работы\n"
      ],
      "metadata": {
        "id": "T5xCMEpR_mCE"
      }
    },
    {
      "cell_type": "code",
      "source": [
        "# Ваш код"
      ],
      "metadata": {
        "id": "s0nepRUE_n_G"
      },
      "execution_count": null,
      "outputs": []
    },
    {
      "cell_type": "markdown",
      "source": [
        "\n",
        "## 2.5. Сравните между собой точной всех трёх моделей, подавая на вход одинаковые изображения (15 разных изображений). Сравните предсказания каждой из моделей и сделайте выводы"
      ],
      "metadata": {
        "id": "d55xgm9z_oGZ"
      }
    },
    {
      "cell_type": "code",
      "source": [
        "# Ваш код"
      ],
      "metadata": {
        "id": "uPaP6z5A_89n"
      },
      "execution_count": null,
      "outputs": []
    },
    {
      "cell_type": "markdown",
      "source": [
        "# Задание №3*. Использование глубокой сверточной нейронной сети для восстановления изображения"
      ],
      "metadata": {
        "id": "FiYiEH3N1qH4"
      }
    },
    {
      "cell_type": "markdown",
      "source": [
        "## 3.1. Работа с данными"
      ],
      "metadata": {
        "id": "Rr7OISUBKMvp"
      }
    },
    {
      "cell_type": "markdown",
      "metadata": {
        "id": "PJVARGYG_xwQ"
      },
      "source": [
        "Будем работать с набором данным `fetch_olivetti_faces` из `sklearn`."
      ]
    },
    {
      "cell_type": "markdown",
      "source": [
        "### 3.1.1. Переведите векторы в настоящие изображения из двух размерностей"
      ],
      "metadata": {
        "id": "kl-BK6WjX-Fc"
      }
    },
    {
      "cell_type": "code",
      "source": [
        "from sklearn.datasets import fetch_olivetti_faces\n",
        "from sklearn.model_selection import train_test_split\n",
        "\n",
        "data, _ = fetch_olivetti_faces(return_X_y=True)\n",
        "train, test = train_test_split(data, test_size=0.2, random_state=4)"
      ],
      "metadata": {
        "id": "uWD9ztJr_xwQ"
      },
      "execution_count": null,
      "outputs": []
    },
    {
      "cell_type": "code",
      "source": [
        "train.shape"
      ],
      "metadata": {
        "id": "BweSEFYmX8df"
      },
      "execution_count": null,
      "outputs": []
    },
    {
      "cell_type": "markdown",
      "source": [
        "Сейчас изображение - это вектор, имеющий размерность 4096."
      ],
      "metadata": {
        "id": "cFHMUzpMXzNH"
      }
    },
    {
      "cell_type": "code",
      "source": [
        "# Ваш код здесь\n",
        "\n",
        "train = train.reshape((train.shape[0], 64, 64))\n",
        "test = test.reshape((test.shape[0], 64, 64))\n",
        "\n",
        "test.shape"
      ],
      "metadata": {
        "id": "_ku9ipjhX6CB"
      },
      "execution_count": null,
      "outputs": []
    },
    {
      "cell_type": "markdown",
      "source": [
        "### 3.1.2. Отрисуйте несколько примеров"
      ],
      "metadata": {
        "id": "8Vrbf_SYYEaM"
      }
    },
    {
      "cell_type": "code",
      "source": [
        "import matplotlib.pyplot as plt\n",
        "\n",
        "\n",
        "fig, ax = plt.subplots(1, 5, figsize=(15, 10))\n",
        "\n",
        "for i in range(5):\n",
        "    ax[i].imshow(train[i], cmap='gray')\n",
        "    ax[i].axis('off')"
      ],
      "metadata": {
        "id": "OiUzTMu2Ymqo"
      },
      "execution_count": null,
      "outputs": []
    },
    {
      "cell_type": "markdown",
      "source": [
        "Поделим данные на X и y, где X - это верхняя часть лица человека, на этом модель будет обучаться, а y - это нижняя часть лица человека - её будем предсказывать."
      ],
      "metadata": {
        "id": "MDbWz6kIDIdq"
      }
    },
    {
      "cell_type": "code",
      "source": [
        "n_pixels = train.shape[1]\n",
        "\n",
        "# Upper half of the faces\n",
        "X_train = train[:, :(n_pixels + 1) // 2, :]\n",
        "# Lower half of the faces\n",
        "y_train = train[:, n_pixels // 2:, :]\n",
        "\n",
        "\n",
        "X_test = test[:, :(n_pixels + 1) // 2, :]\n",
        "y_test = test[:, n_pixels // 2:, :]"
      ],
      "metadata": {
        "id": "0Y31rNs8AkHw"
      },
      "execution_count": null,
      "outputs": []
    },
    {
      "cell_type": "code",
      "source": [
        "X_train.shape"
      ],
      "metadata": {
        "id": "Gn8OgMu5Znnh"
      },
      "execution_count": null,
      "outputs": []
    },
    {
      "cell_type": "markdown",
      "source": [
        "Вот один пример обучающей пары."
      ],
      "metadata": {
        "id": "7q4nmYnMDTzY"
      }
    },
    {
      "cell_type": "code",
      "source": [
        "import matplotlib.pyplot as plt\n",
        "\n",
        "idx = 0\n",
        "\n",
        "fig, ax = plt.subplots(1, 2, figsize=(15, 8))\n",
        "ax[0].imshow(X_train[idx], cmap='gray')\n",
        "ax[0].set_title('X')\n",
        "ax[1].imshow(y_train[idx], cmap='gray')\n",
        "ax[1].set_title('y')\n",
        "ax[0].axis('off')\n",
        "ax[1].axis('off')\n",
        "\n",
        "plt.show()"
      ],
      "metadata": {
        "id": "GYpecml0_xwS"
      },
      "execution_count": null,
      "outputs": []
    },
    {
      "cell_type": "markdown",
      "source": [
        "### 3.1.3. Измените размерность y\n",
        "Остается только изменить размерность y, т.к. сейчас $y$ - картинка 32x64, а выход нейронной сети у нас будет одномерный и равный 32 * 64 = 2048."
      ],
      "metadata": {
        "id": "-MQUIAGaeIaI"
      }
    },
    {
      "cell_type": "code",
      "source": [
        "y_train_n = y_train.reshape(y_train.shape[0], 32 * 64)\n",
        "y_test_n = y_test.reshape(y_test.shape[0], 32 * 64)\n",
        "\n",
        "y_train_n.shape"
      ],
      "metadata": {
        "id": "NTsrtRfkdhAE"
      },
      "execution_count": null,
      "outputs": []
    },
    {
      "cell_type": "markdown",
      "source": [
        "## 3.2. Создайте архитектуру для этой задачи"
      ],
      "metadata": {
        "id": "TaoQfXrzGkV5"
      }
    },
    {
      "cell_type": "code",
      "source": [
        "# Ваш код здесь"
      ],
      "metadata": {
        "id": "O0cB3seMGkV_"
      },
      "execution_count": null,
      "outputs": []
    },
    {
      "cell_type": "markdown",
      "source": [
        "## 3.3. Скомпилируйте сеть\n",
        "\n",
        "Подберите нужную функцию потерь и метрику. Оптимизатор можете использовать 'adam'"
      ],
      "metadata": {
        "id": "jvwQpCIsGkWA"
      }
    },
    {
      "cell_type": "code",
      "source": [
        "# Ваш код здесь"
      ],
      "metadata": {
        "id": "NwoUip0-GkWA"
      },
      "execution_count": null,
      "outputs": []
    },
    {
      "cell_type": "markdown",
      "source": [
        "## 3.4. Обучите нейросеть\n",
        "\n",
        "Выберите нужное количество эпох.\n"
      ],
      "metadata": {
        "id": "QQDeimPrGkWA"
      }
    },
    {
      "cell_type": "code",
      "source": [
        "# Ваш код здесь"
      ],
      "metadata": {
        "id": "TYi8LM6iGkWB"
      },
      "execution_count": null,
      "outputs": []
    },
    {
      "cell_type": "markdown",
      "source": [
        "## 3.5. Сделайте предсказания на тестовых данных"
      ],
      "metadata": {
        "id": "_y_TeRgPHDoA"
      }
    },
    {
      "cell_type": "code",
      "source": [
        "# Ваш код здесь"
      ],
      "metadata": {
        "id": "UoypDLtvHDoA"
      },
      "execution_count": null,
      "outputs": []
    },
    {
      "cell_type": "markdown",
      "source": [
        "## 3.6. Посчитайте метрику качества на тестовых данных"
      ],
      "metadata": {
        "id": "RUgzV344HDoB"
      }
    },
    {
      "cell_type": "code",
      "source": [
        "# Ваш код здесь\n",
        "\n",
        "from sklearn.metrics import mean_absolute_error\n",
        "\n",
        "mean_absolute_error(preds, y_test_n)"
      ],
      "metadata": {
        "id": "ZcUmYJetHDoB"
      },
      "execution_count": null,
      "outputs": []
    },
    {
      "cell_type": "markdown",
      "source": [
        "## 3.7. Преобразуйте предсказанные векторы в двумерное изображение (поменяйте их размерность)"
      ],
      "metadata": {
        "id": "gHWdJ-WmNYZB"
      }
    },
    {
      "cell_type": "code",
      "source": [
        "# Ваш код здесь"
      ],
      "metadata": {
        "id": "3HvIZh6AIHHM"
      },
      "execution_count": null,
      "outputs": []
    },
    {
      "cell_type": "markdown",
      "source": [
        "Отрисуйте все предсказания."
      ],
      "metadata": {
        "id": "LzmfZBw1GAQ9"
      }
    },
    {
      "cell_type": "code",
      "source": [
        "# Пример кода:\n",
        "\n",
        "n_faces = 5\n",
        "n_cols = 2\n",
        "image_shape = (64, 64)\n",
        "plt.figure(figsize=(3 * n_cols, 3 * n_faces))\n",
        "\n",
        "\n",
        "for i in range(5):\n",
        "    true_face = np.vstack((X_test[i], y_test[i]))\n",
        "\n",
        "    if i:\n",
        "        sub = plt.subplot(n_faces, n_cols, i * n_cols + 1)\n",
        "    else:\n",
        "        sub = plt.subplot(n_faces, n_cols, i * n_cols + 1, title=\"true faces\")\n",
        "\n",
        "    sub.axis(\"off\")\n",
        "    sub.imshow(\n",
        "        true_face.reshape(image_shape), cmap=plt.cm.gray, interpolation=\"nearest\"\n",
        "    )\n",
        "\n",
        "    completed_face = np.vstack((X_test[i], pred_test[i]))\n",
        "\n",
        "    if i:\n",
        "        sub = plt.subplot(n_faces, n_cols, i * n_cols + 2)\n",
        "\n",
        "    else:\n",
        "        sub = plt.subplot(n_faces, n_cols, i * n_cols + 2)\n",
        "\n",
        "    sub.axis(\"off\")\n",
        "    sub.imshow(\n",
        "        completed_face.reshape(image_shape),\n",
        "        cmap=plt.cm.gray,\n",
        "        interpolation=\"nearest\",\n",
        "    )"
      ],
      "metadata": {
        "id": "CeWU1R7gH7Ag"
      },
      "execution_count": null,
      "outputs": []
    }
  ]
}